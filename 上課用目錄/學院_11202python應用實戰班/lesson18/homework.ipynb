{
 "cells": [
  {
   "attachments": {},
   "cell_type": "markdown",
   "metadata": {},
   "source": [
    "### HomeWork\n",
    "> 6等級分別是  \n",
    "> 良好 綠，0-50；  \n",
    "> 普通、黃51-100  \n",
    "> 對敏感族群不良 橘，101-150  \n",
    "> 對所有族群不良 紅，151-200  \n",
    "> 非常不良、紫 201-300  \n",
    "> 有害、褐紅色，301-500  \n",
    " \n",
    " ```\n",
    "1.找出目前站點aqi最差的3個\n",
    "2.找aqi目前站點最好的3個\n",
    "3.所有站點目前的等級\n",
    "```"
   ]
  }
 ],
 "metadata": {
  "language_info": {
   "name": "python"
  },
  "orig_nbformat": 4
 },
 "nbformat": 4,
 "nbformat_minor": 2
}
