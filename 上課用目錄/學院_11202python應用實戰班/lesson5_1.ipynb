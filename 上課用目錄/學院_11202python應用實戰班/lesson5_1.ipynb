{
 "cells": [
  {
   "cell_type": "code",
   "execution_count": 1,
   "metadata": {},
   "outputs": [
    {
     "name": "stdout",
     "output_type": "stream",
     "text": [
      "圓柱體的體積:755.49立方公分\n"
     ]
    }
   ],
   "source": [
    "import math\n",
    "radius = eval(input(\"請輸入圓柱體的半徑(公分):\"))\n",
    "height = eval(input(\"請輸入圓柱體的高(公分):\"))\n",
    "volume = math.pi * radius ** 2 * height\n",
    "\n",
    "print(f\"圓柱體的體積:{volume:.2f}立方公分\")\n"
   ]
  },
  {
   "cell_type": "code",
   "execution_count": 6,
   "metadata": {},
   "outputs": [
    {
     "name": "stdout",
     "output_type": "stream",
     "text": [
      "丁\n"
     ]
    }
   ],
   "source": [
    "score = int(input('請輸入成績(0-100):'))\n",
    "if score >= 90:\n",
    "    grade = \"優等\"\n",
    "else:\n",
    "    if score >= 80:\n",
    "        grade = \"甲\"\n",
    "    else:\n",
    "        if score >= 70:\n",
    "            grade = \"乙\"\n",
    "        else:\n",
    "            if score >= 60:\n",
    "                grade = \"丙\"\n",
    "            else:\n",
    "                grade = \"丁\"\n",
    "print(grade)"
   ]
  },
  {
   "cell_type": "code",
   "execution_count": 5,
   "metadata": {},
   "outputs": [
    {
     "name": "stdout",
     "output_type": "stream",
     "text": [
      "丁\n"
     ]
    }
   ],
   "source": [
    "score = int(input('請輸入成績(0-100):'))\n",
    "if score >= 90:\n",
    "    grade = \"優等\"\n",
    "elif score >= 80:   \n",
    "    grade = \"甲\"\n",
    "elif score >= 70:\n",
    "    grade = \"乙\"\n",
    "elif score >= 60:\n",
    "    grade = \"丙\"\n",
    "else:\n",
    "    grade = \"丁\"            \n",
    "                \n",
    "print(grade)"
   ]
  },
  {
   "attachments": {},
   "cell_type": "markdown",
   "metadata": {},
   "source": [
    "#### 輸入顧客購買金額，若金額在\n",
    "- 100000元打8折. \n",
    "- 50000打85折. \n",
    "- 30000打9折. \n",
    "- 10000打95折.\n",
    "  \n",
    "#### 買1000送100\n",
    "  \n",
    "```\n",
    "結果:\n",
    "請輸入購買金額:130000\n",
    "實付金額是: 104000.0 元\n",
    "```\n"
   ]
  },
  {
   "cell_type": "code",
   "execution_count": null,
   "metadata": {},
   "outputs": [],
   "source": [
    "money = int(input(\"請輸入購買金額:\"))\n",
    "if money >= 100000:\n",
    "    payMoney = money * 0.8\n",
    "elif money >= 50000:\n",
    "    payMoney = money * 0.85\n",
    "elif money >= 30000:\n",
    "    payMoney = money * 0.9\n",
    "elif money >= 10000:\n",
    "    payMoney = money * 0.95\n",
    "else:\n",
    "    payMoney = money\n",
    "\n",
    "print('實付金額是:', payMoney, '元')"
   ]
  },
  {
   "cell_type": "code",
   "execution_count": null,
   "metadata": {},
   "outputs": [],
   "source": [
    "money = int(input(\"請輸入購買金額:\"))\n",
    "discount = money // 1000 * 100\n",
    "if money >= 100000:\n",
    "    payMoney = money * 0.8\n",
    "elif money >= 50000:\n",
    "    payMoney = money * 0.85\n",
    "elif money >= 30000:\n",
    "    payMoney = money * 0.9\n",
    "elif money >= 10000:\n",
    "    payMoney = money * 0.95\n",
    "else:\n",
    "    payMoney = money\n",
    "\n",
    "payMoney -= discount\n",
    "\n",
    "print('實付金額是:', payMoney, '元')"
   ]
  },
  {
   "attachments": {},
   "cell_type": "markdown",
   "metadata": {},
   "source": [
    "- 國文100 同時 數學100 獎金 1000\n",
    "- 國文100 或者 數學100 獎金 500\n",
    "- 其它 0"
   ]
  },
  {
   "cell_type": "code",
   "execution_count": null,
   "metadata": {},
   "outputs": [],
   "source": [
    "chinese = int(input(\"請輸入國文分數:\"))\n",
    "math = int(input(\"請輸入數學分數:\"))\n",
    "\n",
    "if chinese ==  100:\n",
    "    if math == 100:\n",
    "        bonus = 1000\n",
    "    else:\n",
    "        bouus = 500\n",
    "else:\n",
    "    if math == 100:\n",
    "        bonus = 500\n",
    "    else:\n",
    "        bouus = 0"
   ]
  },
  {
   "cell_type": "code",
   "execution_count": 10,
   "metadata": {},
   "outputs": [
    {
     "name": "stdout",
     "output_type": "stream",
     "text": [
      "獎金:0\n"
     ]
    }
   ],
   "source": [
    "chinese = int(input(\"請輸入國文分數:\"))\n",
    "math = int(input(\"請輸入數學分數:\"))\n",
    "\n",
    "if chinese == 100 and math == 100:\n",
    "    bonus = 1000\n",
    "elif chinese == 100 or math == 100:\n",
    "    bonus = 500\n",
    "else:\n",
    "    bonus = 0\n",
    "\n",
    "print(f\"獎金:{bonus}\")"
   ]
  },
  {
   "attachments": {},
   "cell_type": "markdown",
   "metadata": {},
   "source": [
    "![](./images/pic1.png)"
   ]
  },
  {
   "cell_type": "code",
   "execution_count": 6,
   "metadata": {},
   "outputs": [
    {
     "name": "stdout",
     "output_type": "stream",
     "text": [
      "單純收縮期高血壓\n"
     ]
    }
   ],
   "source": [
    "sbp = int(input(\"請輸入收縮壓:\"))\n",
    "dbp = int(input(\"請輸入舒張壓:\"))\n",
    "suggestion =  \"\"\n",
    "if sbp < 120 and dbp < 80:\n",
    "    suggestion = \"正常\"\n",
    "\n",
    "if 120 <= sbp <= 129 and dbp < 80:\n",
    "    suggestion = \"高血壓升高\"\n",
    "\n",
    "if 130 <= sbp <= 139 or 80 <= dbp <= 89:\n",
    "    suggestion = \"高血壓一期\"\n",
    "\n",
    "if sbp >= 140 or dbp >= 90:\n",
    "    suggestion = \"高血壓二期\"\n",
    "\n",
    "if sbp >= 130 and dbp < 80:\n",
    "    suggestion = \"單純收縮期高血壓\"\n",
    "\n",
    "print(suggestion)\n"
   ]
  },
  {
   "cell_type": "code",
   "execution_count": 13,
   "metadata": {},
   "outputs": [
    {
     "name": "stdout",
     "output_type": "stream",
     "text": [
      "高血壓二期\n"
     ]
    }
   ],
   "source": [
    "sbp = int(input(\"請輸入收縮壓:\"))\n",
    "dbp = int(input(\"請輸入舒張壓:\"))\n",
    "\n",
    "if sbp >= 140 or dbp >= 90:\n",
    "    suggestion = \"高血壓二期\"\n",
    "elif sbp >= 130 or 80 <= dbp <= 89:\n",
    "    suggestion = \"高血壓一期\"\n",
    "elif sbp >= 120 and dbp < 80:\n",
    "    suggestion = \"血壓升高\"\n",
    "elif dbp < 80:\n",
    "    suggestion = \"正常\"\n",
    "    \n",
    "\n",
    "if sbp >= 130 and dbp < 80:\n",
    "    suggestion = \"單純收縮期\\n高血壓\"\n",
    "\n",
    "print(suggestion)\n"
   ]
  },
  {
   "attachments": {},
   "cell_type": "markdown",
   "metadata": {},
   "source": [
    "### HomeWork\n",
    "\n",
    "```\n",
    "下列為根據最低年齡制定電影分級的函式，假設電影分級的規則如下：\n",
    "\n",
    "• 限制級：18歲或以上皆可欣賞。\n",
    "• 輔導級：13(含) ~ 17歲以上皆可欣賞。\n",
    "• 普遍級：12(含)歲以下皆可欣賞。\n",
    "• 如果沒有輸入年齡預設為普遍級。\n",
    "\n",
    "```\n"
   ]
  },
  {
   "attachments": {},
   "cell_type": "markdown",
   "metadata": {},
   "source": [
    "### HomeWork:BMI 計算後分析\n",
    "- 請依據 BMI 值分析他人的身體狀況。\n",
    "\n",
    "| BMI值 | < 18.5 | 18.5-25 | 25-30 | >30 |\n",
    "|:--|:--|:--|:--|:--|\n",
    "| 身體狀態 | 太輕 | 正常 | 過重 | 肥胖 |\n",
    " \n",
    " ```\n",
    " #bmi.py\n",
    " 請輸入身高,單位為(公分):177\n",
    " 請輸入體重,單位為(公斤):80\n",
    " \n",
    " 您的BMI是25.53544\n",
    " 「您的體重過重」\n",
    " ```\n",
    "\n"
   ]
  }
 ],
 "metadata": {
  "kernelspec": {
   "display_name": "Python 3",
   "language": "python",
   "name": "python3"
  },
  "language_info": {
   "codemirror_mode": {
    "name": "ipython",
    "version": 3
   },
   "file_extension": ".py",
   "mimetype": "text/x-python",
   "name": "python",
   "nbconvert_exporter": "python",
   "pygments_lexer": "ipython3",
   "version": "3.9.6"
  },
  "orig_nbformat": 4,
  "vscode": {
   "interpreter": {
    "hash": "31f2aee4e71d21fbe5cf8b01ff0e069b9275f58929596ceb00d14d90e3e16cd6"
   }
  }
 },
 "nbformat": 4,
 "nbformat_minor": 2
}
