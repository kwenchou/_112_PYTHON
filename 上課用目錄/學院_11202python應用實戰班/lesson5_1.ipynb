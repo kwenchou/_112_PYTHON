{
 "cells": [
  {
   "cell_type": "code",
   "execution_count": 1,
   "metadata": {},
   "outputs": [
    {
     "name": "stdout",
     "output_type": "stream",
     "text": [
      "圓柱體的體積:755.49立方公分\n"
     ]
    }
   ],
   "source": [
    "import math\n",
    "radius = eval(input(\"請輸入圓柱體的半徑(公分):\"))\n",
    "height = eval(input(\"請輸入圓柱體的高(公分):\"))\n",
    "volume = math.pi * radius ** 2 * height\n",
    "\n",
    "print(f\"圓柱體的體積:{volume:.2f}立方公分\")\n"
   ]
  },
  {
   "cell_type": "code",
   "execution_count": 6,
   "metadata": {},
   "outputs": [
    {
     "name": "stdout",
     "output_type": "stream",
     "text": [
      "丁\n"
     ]
    }
   ],
   "source": [
    "score = int(input('請輸入成績(0-100):'))\n",
    "if score >= 90:\n",
    "    grade = \"優等\"\n",
    "else:\n",
    "    if score >= 80:\n",
    "        grade = \"甲\"\n",
    "    else:\n",
    "        if score >= 70:\n",
    "            grade = \"乙\"\n",
    "        else:\n",
    "            if score >= 60:\n",
    "                grade = \"丙\"\n",
    "            else:\n",
    "                grade = \"丁\"\n",
    "print(grade)"
   ]
  },
  {
   "cell_type": "code",
   "execution_count": 5,
   "metadata": {},
   "outputs": [
    {
     "name": "stdout",
     "output_type": "stream",
     "text": [
      "丁\n"
     ]
    }
   ],
   "source": [
    "score = int(input('請輸入成績(0-100):'))\n",
    "if score >= 90:\n",
    "    grade = \"優等\"\n",
    "elif score >= 80:   \n",
    "    grade = \"甲\"\n",
    "elif score >= 70:\n",
    "    grade = \"乙\"\n",
    "elif score >= 60:\n",
    "    grade = \"丙\"\n",
    "else:\n",
    "    grade = \"丁\"            \n",
    "                \n",
    "print(grade)"
   ]
  }
 ],
 "metadata": {
  "kernelspec": {
   "display_name": "Python 3",
   "language": "python",
   "name": "python3"
  },
  "language_info": {
   "codemirror_mode": {
    "name": "ipython",
    "version": 3
   },
   "file_extension": ".py",
   "mimetype": "text/x-python",
   "name": "python",
   "nbconvert_exporter": "python",
   "pygments_lexer": "ipython3",
   "version": "3.9.6"
  },
  "orig_nbformat": 4,
  "vscode": {
   "interpreter": {
    "hash": "31f2aee4e71d21fbe5cf8b01ff0e069b9275f58929596ceb00d14d90e3e16cd6"
   }
  }
 },
 "nbformat": 4,
 "nbformat_minor": 2
}
