{
 "cells": [
  {
   "cell_type": "code",
   "execution_count": 1,
   "metadata": {},
   "outputs": [
    {
     "data": {
      "text/plain": [
       "5.0"
      ]
     },
     "execution_count": 1,
     "metadata": {},
     "output_type": "execute_result"
    }
   ],
   "source": [
    "import math\n",
    "\n",
    "def hypotenuse(side,otherSide):\n",
    "    return math.sqrt(side ** 2 + otherSide ** 2)\n",
    "\n",
    "s = eval(input(\"請輸入一邊:\"))\n",
    "os = eval(input(\"請輸入另一邊:\"))\n",
    "\n",
    "hypotenuse(s,os)"
   ]
  },
  {
   "cell_type": "code",
   "execution_count": 3,
   "metadata": {},
   "outputs": [],
   "source": [
    "def bmi_value(weight, height):\n",
    "    return weight  / (height/100) ** 2\n",
    "\n",
    "def suggestion(bmi):\n",
    "    message = \"\"\n",
    "    if bmi<18.5:\n",
    "        message = \"體重過輕\"\n",
    "    elif bmi<24:\n",
    "        message = \"正常範圍\"\n",
    "    elif bmi<27:\n",
    "        message = \"過重\"\n",
    "    elif bmi<30:\n",
    "        message = \"輕度肥胖\"\n",
    "    elif bmi<35:\n",
    "        message = \"中度肥胖\"\n",
    "    else:\n",
    "        message = \"重度肥胖\"\n",
    "    return message\n"
   ]
  },
  {
   "cell_type": "code",
   "execution_count": 6,
   "metadata": {},
   "outputs": [
    {
     "name": "stdout",
     "output_type": "stream",
     "text": [
      "robert您好:\n",
      "您的bmi數值是:29.41\n",
      "給您的建議:輕度肥胖\n"
     ]
    }
   ],
   "source": [
    "name = input(\"請輸入姓名:\")\n",
    "height = int(input(\"請輸入身高(公分):\"))\n",
    "weight = int(input(\"請輸入體重(公斤):\"))\n",
    "bmi = bmi_value(weight,height)\n",
    "info = suggestion(bmi)\n",
    "print(f\"{name}您好:\")\n",
    "print(f\"您的bmi數值是:{bmi:.2f}\")\n",
    "print(f\"給您的建議:{info}\")"
   ]
  }
 ],
 "metadata": {
  "kernelspec": {
   "display_name": "base",
   "language": "python",
   "name": "python3"
  },
  "language_info": {
   "codemirror_mode": {
    "name": "ipython",
    "version": 3
   },
   "file_extension": ".py",
   "mimetype": "text/x-python",
   "name": "python",
   "nbconvert_exporter": "python",
   "pygments_lexer": "ipython3",
   "version": "3.9.5"
  },
  "orig_nbformat": 4,
  "vscode": {
   "interpreter": {
    "hash": "a9391e16228f5136a53fd3fb901c1173d6e2abcfe5a3cb5d30388034d9264892"
   }
  }
 },
 "nbformat": 4,
 "nbformat_minor": 2
}
