{
 "cells": [
  {
   "cell_type": "code",
   "execution_count": 1,
   "metadata": {},
   "outputs": [
    {
     "data": {
      "text/plain": [
       "5.0"
      ]
     },
     "execution_count": 1,
     "metadata": {},
     "output_type": "execute_result"
    }
   ],
   "source": [
    "import math\n",
    "\n",
    "def hypotenuse(side,otherSide):\n",
    "    return math.sqrt(side ** 2 + otherSide ** 2)\n",
    "\n",
    "s = eval(input(\"請輸入一邊:\"))\n",
    "os = eval(input(\"請輸入另一邊:\"))\n",
    "\n",
    "hypotenuse(s,os)"
   ]
  }
 ],
 "metadata": {
  "kernelspec": {
   "display_name": "base",
   "language": "python",
   "name": "python3"
  },
  "language_info": {
   "codemirror_mode": {
    "name": "ipython",
    "version": 3
   },
   "file_extension": ".py",
   "mimetype": "text/x-python",
   "name": "python",
   "nbconvert_exporter": "python",
   "pygments_lexer": "ipython3",
   "version": "3.9.5"
  },
  "orig_nbformat": 4,
  "vscode": {
   "interpreter": {
    "hash": "a9391e16228f5136a53fd3fb901c1173d6e2abcfe5a3cb5d30388034d9264892"
   }
  }
 },
 "nbformat": 4,
 "nbformat_minor": 2
}
