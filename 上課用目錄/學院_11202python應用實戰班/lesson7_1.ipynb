{
 "cells": [
  {
   "cell_type": "code",
   "execution_count": 1,
   "metadata": {},
   "outputs": [
    {
     "name": "stdout",
     "output_type": "stream",
     "text": [
      "恭喜!已經存夠了,存了6個月,總存款為30735元\n"
     ]
    }
   ],
   "source": [
    "#小明想要存錢買一輛機車,機車每輛30000元，他將每月存的錢輸入，當存款足夠買機車時，就顯示提示訊息告知。\n",
    "\n",
    "deposite = 0\n",
    "num = 0\n",
    "while(deposite<30000):\n",
    "    num += 1\n",
    "    input_value = int(input(\"請輸入第{0}月份的存款:\".format(num)))\n",
    "    deposite += input_value\n",
    "print(\"恭喜!已經存夠了,存了%d個月,總存款為%d元\" % (num, deposite))"
   ]
  }
 ],
 "metadata": {
  "kernelspec": {
   "display_name": "base",
   "language": "python",
   "name": "python3"
  },
  "language_info": {
   "codemirror_mode": {
    "name": "ipython",
    "version": 3
   },
   "file_extension": ".py",
   "mimetype": "text/x-python",
   "name": "python",
   "nbconvert_exporter": "python",
   "pygments_lexer": "ipython3",
   "version": "3.9.5"
  },
  "orig_nbformat": 4,
  "vscode": {
   "interpreter": {
    "hash": "a9391e16228f5136a53fd3fb901c1173d6e2abcfe5a3cb5d30388034d9264892"
   }
  }
 },
 "nbformat": 4,
 "nbformat_minor": 2
}
