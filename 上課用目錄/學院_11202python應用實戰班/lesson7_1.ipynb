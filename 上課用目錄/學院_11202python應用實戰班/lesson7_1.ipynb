{
 "cells": [
  {
   "cell_type": "code",
   "execution_count": 1,
   "metadata": {},
   "outputs": [
    {
     "name": "stdout",
     "output_type": "stream",
     "text": [
      "恭喜!已經存夠了,存了6個月,總存款為30735元\n"
     ]
    }
   ],
   "source": [
    "#小明想要存錢買一輛機車,機車每輛30000元，他將每月存的錢輸入，當存款足夠買機車時，就顯示提示訊息告知。\n",
    "\n",
    "deposite = 0\n",
    "num = 0\n",
    "while(deposite<30000):\n",
    "    num += 1\n",
    "    input_value = int(input(\"請輸入第{0}月份的存款:\".format(num)))\n",
    "    deposite += input_value\n",
    "print(\"恭喜!已經存夠了,存了%d個月,總存款為%d元\" % (num, deposite))"
   ]
  },
  {
   "cell_type": "code",
   "execution_count": 2,
   "metadata": {},
   "outputs": [
    {
     "name": "stdout",
     "output_type": "stream",
     "text": [
      "學生總分為300\n",
      "學生平均為100.0\n"
     ]
    }
   ],
   "source": [
    "#小美是一位教師，請你以while迴圈方式為小美設計一個輸入成績的程式，如果輸入負數表示成績輸入結束，在輸入成績結束後顯示班上總成績及平均成績。\n",
    "\n",
    "\n",
    "sum = 0\n",
    "num = 0\n",
    "input_score = int(input(f\"請輸入第{num+1}位學生成績:\"))\n",
    "while(input_score >= 0):\n",
    "    sum += input_score\n",
    "    num += 1\n",
    "    input_score = int(input(f\"請輸入第{num+1}位學生成績:\"))\n",
    "\n",
    "print(f\"學生總分為{sum}\")\n",
    "print(f\"學生平均為{sum/num}\")\n"
   ]
  },
  {
   "cell_type": "code",
   "execution_count": 4,
   "metadata": {},
   "outputs": [
    {
     "name": "stdout",
     "output_type": "stream",
     "text": [
      "學生總分為300\n",
      "學生平均為100.0\n"
     ]
    }
   ],
   "source": [
    "sum = 0\n",
    "num = 0\n",
    "\n",
    "while(True):    \n",
    "    input_score = int(input(f\"請輸入第{num+1}位學生成績:\"))\n",
    "    if input_score < 0:\n",
    "        break\n",
    "    num += 1\n",
    "    sum += input_score\n",
    "    \n",
    "print(f\"學生總分為{sum}\")\n",
    "print(f\"學生平均為{sum/num}\")\n",
    "\n"
   ]
  },
  {
   "cell_type": "code",
   "execution_count": 8,
   "metadata": {},
   "outputs": [
    {
     "name": "stdout",
     "output_type": "stream",
     "text": [
      "程式結束\n"
     ]
    }
   ],
   "source": [
    "while(True):\n",
    "    input_value = input(\"請輸入整數,輸入「q」離開:\")\n",
    "    if input_value.lower() == 'q':\n",
    "        break\n",
    "    elif int(input_value) % 2 == 0:\n",
    "        continue\n",
    "    else:\n",
    "        print(int(input_value) ** 2)\n",
    "\n",
    "print(\"程式結束\")\n"
   ]
  },
  {
   "attachments": {},
   "cell_type": "markdown",
   "metadata": {},
   "source": [
    "### HomeWork\n",
    "請設計一個程式，讓使用者輸入數值，只有加總偶數值，不加總正奇數值，如果輸入負數，結束程式。\n",
    "```\n",
    "顯示:========================================\n",
    "請輸入第1個數值:456\n",
    "請輸入第2個數值:455\n",
    "請輸入第3個數值:123\n",
    "請輸入第4個數值:-1\n",
    "所有輸入的正偶數的加總是:xxxxxxx\n",
    "=============================================\n",
    "```"
   ]
  },
  {
   "cell_type": "code",
   "execution_count": 18,
   "metadata": {},
   "outputs": [
    {
     "data": {
      "text/plain": [
       "3"
      ]
     },
     "execution_count": 18,
     "metadata": {},
     "output_type": "execute_result"
    }
   ],
   "source": [
    "import random\n",
    "\n",
    "random.randint(1,10)"
   ]
  },
  {
   "attachments": {},
   "cell_type": "markdown",
   "metadata": {},
   "source": [
    "```\n",
    "#============================================================================\n",
    "# Name        : guess.py\n",
    "#猜數字遊戲\n",
    "\n",
    "===============猜數字遊戲=================:\n",
    "\n",
    "猜數字範圍1~100:50\n",
    "再小一點\n",
    "您猜了 1 次\n",
    "\n",
    "猜數字範圍1~50:25\n",
    "再大一點\n",
    "您猜了 2 次\n",
    "\n",
    "猜數字範圍25~50:34\n",
    "再大一點\n",
    "您猜了 3 次\n",
    "\n",
    "猜數字範圍34~50:46\n",
    "再小一點\n",
    "您猜了 4 次\n",
    "\n",
    "猜數字範圍34~46:40\n",
    "賓果!猜對了, 答案是: 40\n",
    "您猜了 5 次\n",
    "#====================================\n",
    "\n",
    "```"
   ]
  },
  {
   "cell_type": "code",
   "execution_count": 20,
   "metadata": {},
   "outputs": [
    {
     "name": "stdout",
     "output_type": "stream",
     "text": [
      "==================猜數字遊戲==================\n",
      "\n",
      "再大一點\n",
      "您已經猜了1次\n",
      "再大一點\n",
      "您已經猜了2次\n",
      "再小一點\n",
      "您已經猜了3次\n",
      "再小一點\n",
      "您已經猜了4次\n",
      "再大一點\n",
      "您已經猜了5次\n",
      "再小一點\n",
      "您已經猜了6次\n",
      "賓果!猜對了,答案是:82\n",
      "您猜了7次\n",
      "Game Over\n"
     ]
    }
   ],
   "source": [
    "import random\n",
    "print(\"==================猜數字遊戲==================\\n\")\n",
    "min = 1\n",
    "max = 100\n",
    "random_num = random.randint(min,max)\n",
    "used_num = 0\n",
    "\n",
    "while(True):\n",
    "    keyin_value = int(input(\"猜數字範圍{0}~{1}:\".format(min, max)))\n",
    "    used_num += 1\n",
    "    if(keyin_value >= min and keyin_value <= max):\n",
    "        if keyin_value == random_num:\n",
    "            print(\"賓果!猜對了,答案是:%d\" % random_num)\n",
    "            print(f\"您猜了{used_num}次\")\n",
    "            break\n",
    "        elif(keyin_value > random_num):\n",
    "            print(\"再小一點\")\n",
    "            max = keyin_value - 1\n",
    "            \n",
    "        elif(keyin_value < random_num):\n",
    "            print(\"再大一點\")\n",
    "            min = keyin_value + 1\n",
    "            \n",
    "        print(f\"您已經猜了{used_num}次\")\n",
    "    else:\n",
    "        print(\"超出範圍了!\")\n",
    "        continue\n",
    "\n",
    "print(\"Game Over\")"
   ]
  },
  {
   "attachments": {},
   "cell_type": "markdown",
   "metadata": {},
   "source": [
    "```\n",
    "現在作業\n",
    "數字遊戲結束後\n",
    "輸出:\n",
    "\n",
    "立即結束遊戲,請按「q」。按其它按鈕繼續遊戲!\n",
    "```"
   ]
  },
  {
   "cell_type": "code",
   "execution_count": null,
   "metadata": {},
   "outputs": [],
   "source": [
    "import random\n",
    "print(\"==================猜數字遊戲==================\\n\")\n",
    "min = 1\n",
    "max = 100\n",
    "random_num = random.randint(min,max)\n",
    "used_num = 0\n",
    "\n",
    "while(True):\n",
    "    keyin_value = int(input(\"猜數字範圍{0}~{1}:\".format(min, max)))\n",
    "    used_num += 1\n",
    "    if(keyin_value >= min and keyin_value <= max):\n",
    "        if keyin_value == random_num:\n",
    "            print(\"賓果!猜對了,答案是:%d\" % random_num)\n",
    "            print(f\"您猜了{used_num}次\")\n",
    "            break\n",
    "        elif(keyin_value > random_num):\n",
    "            print(\"再小一點\")\n",
    "            max = keyin_value - 1\n",
    "            \n",
    "        elif(keyin_value < random_num):\n",
    "            print(\"再大一點\")\n",
    "            min = keyin_value + 1\n",
    "            \n",
    "        print(f\"您已經猜了{used_num}次\")\n",
    "    else:\n",
    "        print(\"超出範圍了!\")\n",
    "        continue\n",
    "\n",
    "print(\"Game Over\")"
   ]
  }
 ],
 "metadata": {
  "kernelspec": {
   "display_name": "base",
   "language": "python",
   "name": "python3"
  },
  "language_info": {
   "codemirror_mode": {
    "name": "ipython",
    "version": 3
   },
   "file_extension": ".py",
   "mimetype": "text/x-python",
   "name": "python",
   "nbconvert_exporter": "python",
   "pygments_lexer": "ipython3",
   "version": "3.9.5"
  },
  "orig_nbformat": 4,
  "vscode": {
   "interpreter": {
    "hash": "a9391e16228f5136a53fd3fb901c1173d6e2abcfe5a3cb5d30388034d9264892"
   }
  }
 },
 "nbformat": 4,
 "nbformat_minor": 2
}
