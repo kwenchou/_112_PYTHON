{
 "cells": [
  {
   "cell_type": "code",
   "execution_count": 1,
   "metadata": {},
   "outputs": [
    {
     "name": "stdout",
     "output_type": "stream",
     "text": [
      "恭喜!已經存夠了,存了6個月,總存款為30735元\n"
     ]
    }
   ],
   "source": [
    "#小明想要存錢買一輛機車,機車每輛30000元，他將每月存的錢輸入，當存款足夠買機車時，就顯示提示訊息告知。\n",
    "\n",
    "deposite = 0\n",
    "num = 0\n",
    "while(deposite<30000):\n",
    "    num += 1\n",
    "    input_value = int(input(\"請輸入第{0}月份的存款:\".format(num)))\n",
    "    deposite += input_value\n",
    "print(\"恭喜!已經存夠了,存了%d個月,總存款為%d元\" % (num, deposite))"
   ]
  },
  {
   "cell_type": "code",
   "execution_count": 2,
   "metadata": {},
   "outputs": [
    {
     "name": "stdout",
     "output_type": "stream",
     "text": [
      "學生總分為300\n",
      "學生平均為100.0\n"
     ]
    }
   ],
   "source": [
    "#小美是一位教師，請你以while迴圈方式為小美設計一個輸入成績的程式，如果輸入負數表示成績輸入結束，在輸入成績結束後顯示班上總成績及平均成績。\n",
    "\n",
    "\n",
    "sum = 0\n",
    "num = 0\n",
    "input_score = int(input(f\"請輸入第{num+1}位學生成績:\"))\n",
    "while(input_score >= 0):\n",
    "    sum += input_score\n",
    "    num += 1\n",
    "    input_score = int(input(f\"請輸入第{num+1}位學生成績:\"))\n",
    "\n",
    "print(f\"學生總分為{sum}\")\n",
    "print(f\"學生平均為{sum/num}\")\n"
   ]
  },
  {
   "cell_type": "code",
   "execution_count": 4,
   "metadata": {},
   "outputs": [
    {
     "name": "stdout",
     "output_type": "stream",
     "text": [
      "學生總分為300\n",
      "學生平均為100.0\n"
     ]
    }
   ],
   "source": [
    "sum = 0\n",
    "num = 0\n",
    "\n",
    "while(True):    \n",
    "    input_score = int(input(f\"請輸入第{num+1}位學生成績:\"))\n",
    "    if input_score < 0:\n",
    "        break\n",
    "    num += 1\n",
    "    sum += input_score\n",
    "    \n",
    "print(f\"學生總分為{sum}\")\n",
    "print(f\"學生平均為{sum/num}\")\n",
    "\n"
   ]
  },
  {
   "cell_type": "code",
   "execution_count": 8,
   "metadata": {},
   "outputs": [
    {
     "name": "stdout",
     "output_type": "stream",
     "text": [
      "程式結束\n"
     ]
    }
   ],
   "source": [
    "while(True):\n",
    "    input_value = input(\"請輸入整數,輸入「q」離開:\")\n",
    "    if input_value.lower() == 'q':\n",
    "        break\n",
    "    elif int(input_value) % 2 == 0:\n",
    "        continue\n",
    "    else:\n",
    "        print(int(input_value) ** 2)\n",
    "\n",
    "print(\"程式結束\")\n"
   ]
  }
 ],
 "metadata": {
  "kernelspec": {
   "display_name": "base",
   "language": "python",
   "name": "python3"
  },
  "language_info": {
   "codemirror_mode": {
    "name": "ipython",
    "version": 3
   },
   "file_extension": ".py",
   "mimetype": "text/x-python",
   "name": "python",
   "nbconvert_exporter": "python",
   "pygments_lexer": "ipython3",
   "version": "3.9.5"
  },
  "orig_nbformat": 4,
  "vscode": {
   "interpreter": {
    "hash": "a9391e16228f5136a53fd3fb901c1173d6e2abcfe5a3cb5d30388034d9264892"
   }
  }
 },
 "nbformat": 4,
 "nbformat_minor": 2
}
