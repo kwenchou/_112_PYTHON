{
 "cells": [
  {
   "cell_type": "code",
   "execution_count": 4,
   "metadata": {},
   "outputs": [
    {
     "data": {
      "text/plain": [
       "30"
      ]
     },
     "execution_count": 4,
     "metadata": {},
     "output_type": "execute_result"
    }
   ],
   "source": [
    "m = 20\n",
    "m = m + 10\n",
    "m"
   ]
  },
  {
   "cell_type": "code",
   "execution_count": null,
   "metadata": {},
   "outputs": [],
   "source": [
    "#複合指定運算子\n",
    "m = 20\n",
    "m += 10\n",
    "m"
   ]
  },
  {
   "cell_type": "code",
   "execution_count": 5,
   "metadata": {},
   "outputs": [
    {
     "data": {
      "text/plain": [
       "60"
      ]
     },
     "execution_count": 5,
     "metadata": {},
     "output_type": "execute_result"
    }
   ],
   "source": [
    "#請以(複合指定運算子)設計程式,讓用者輸入三個任意數，程式會顯示3數相加的總和(float)\n",
    "sum = 0\n",
    "n = eval(input(\"請輸入第1個數:\"))\n",
    "sum += n\n",
    "\n",
    "n = eval(input(\"請輸入第2個數:\"))\n",
    "sum += n\n",
    "\n",
    "n = eval(input(\"請輸入第3個數:\"))\n",
    "sum += n\n",
    "\n",
    "sum"
   ]
  },
  {
   "attachments": {},
   "cell_type": "markdown",
   "metadata": {},
   "source": [
    "### Homework(ladder.py)\n",
    "- 讓使用者輸入梯形的上底、下底及高，程式會計算梯形的面積(上底加下底乘以高除以2)\n",
    "\n",
    "```\n",
    "請輸入梯形的上底(公分):5\n",
    "請輸入梯形的下底(公分):10\n",
    "請輸入梯形的高(公分):2\n",
    "梯形的面積:15平方公分\n",
    "```"
   ]
  },
  {
   "attachments": {},
   "cell_type": "markdown",
   "metadata": {},
   "source": [
    "### Homework(circle_s.py)\n",
    "- 使用者輸入圓柱體的半徑及高，程式會計算圓柱體的體積\n",
    "- 圓柱體體積的公式為「圓週率乘以半徑平方再乘以高」。\n",
    "\n",
    "```\n",
    "請輸入圓柱體的半徑(公分):10\n",
    "請輸入圓柱體的高(公分):5\n",
    "圓柱體的體積:xxxx立方公分\n",
    "```"
   ]
  },
  {
   "cell_type": "code",
   "execution_count": 6,
   "metadata": {},
   "outputs": [
    {
     "data": {
      "text/plain": [
       "0.33324553309906935"
      ]
     },
     "execution_count": 6,
     "metadata": {},
     "output_type": "execute_result"
    }
   ],
   "source": [
    "#高中數學\n",
    "import math\n",
    "math.sqrt(math.sin(25) *  math.cos(10))"
   ]
  },
  {
   "cell_type": "code",
   "execution_count": 29,
   "metadata": {},
   "outputs": [
    {
     "data": {
      "text/plain": [
       "30"
      ]
     },
     "execution_count": 29,
     "metadata": {},
     "output_type": "execute_result"
    }
   ],
   "source": [
    "\n",
    "round(math.degrees(math.asin(2.5/5)))"
   ]
  },
  {
   "attachments": {},
   "cell_type": "markdown",
   "metadata": {},
   "source": [
    "### Homework(degree.py)\n",
    "- 讓使用者輸入直角三角形的對邊\n",
    "- 讓使用者輸入直角三角形的斜邊\n",
    "- 計算角度\n",
    "\n",
    "```\n",
    "請輸入對邊:2.5\n",
    "請輸入斜邊:5\n",
    "直角三角形的角度為:30degree\n",
    "```\n"
   ]
  }
 ],
 "metadata": {
  "kernelspec": {
   "display_name": "Python 3",
   "language": "python",
   "name": "python3"
  },
  "language_info": {
   "codemirror_mode": {
    "name": "ipython",
    "version": 3
   },
   "file_extension": ".py",
   "mimetype": "text/x-python",
   "name": "python",
   "nbconvert_exporter": "python",
   "pygments_lexer": "ipython3",
   "version": "3.9.6"
  },
  "orig_nbformat": 4,
  "vscode": {
   "interpreter": {
    "hash": "31f2aee4e71d21fbe5cf8b01ff0e069b9275f58929596ceb00d14d90e3e16cd6"
   }
  }
 },
 "nbformat": 4,
 "nbformat_minor": 2
}
