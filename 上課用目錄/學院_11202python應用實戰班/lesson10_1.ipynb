{
 "cells": [
  {
   "cell_type": "code",
   "execution_count": null,
   "metadata": {},
   "outputs": [],
   "source": [
    "import random\n",
    "students = []\n",
    "for _ in range(50):\n",
    "    scores = []\n",
    "    for _ in range(5):\n",
    "        scores.append(random.randint(50,100))\n",
    "    students.append(scores)\n",
    "\n",
    "students"
   ]
  },
  {
   "cell_type": "code",
   "execution_count": 3,
   "metadata": {},
   "outputs": [
    {
     "name": "stdout",
     "output_type": "stream",
     "text": [
      "國文\t英文\t數學\t自然\t社會\n",
      "51\t82\t80\t74\t97\t\n",
      "67\t54\t75\t67\t84\t\n",
      "82\t87\t79\t59\t93\t\n",
      "98\t71\t70\t85\t51\t\n",
      "97\t85\t53\t88\t80\t\n",
      "62\t56\t52\t68\t87\t\n",
      "89\t56\t84\t87\t97\t\n",
      "73\t71\t56\t70\t68\t\n",
      "52\t98\t69\t87\t58\t\n",
      "52\t81\t91\t69\t66\t\n",
      "78\t53\t58\t90\t60\t\n",
      "73\t68\t76\t95\t97\t\n",
      "53\t72\t68\t87\t72\t\n",
      "91\t56\t94\t59\t73\t\n",
      "66\t92\t82\t51\t96\t\n",
      "86\t89\t57\t86\t53\t\n",
      "65\t72\t61\t58\t57\t\n",
      "73\t59\t81\t87\t68\t\n",
      "53\t99\t81\t93\t92\t\n",
      "69\t62\t75\t53\t83\t\n",
      "98\t74\t65\t55\t57\t\n",
      "99\t90\t64\t88\t59\t\n",
      "74\t55\t72\t84\t65\t\n",
      "52\t89\t71\t55\t81\t\n",
      "86\t77\t50\t82\t83\t\n",
      "62\t94\t77\t84\t56\t\n",
      "82\t71\t88\t64\t64\t\n",
      "81\t100\t84\t98\t69\t\n",
      "76\t67\t57\t61\t72\t\n",
      "63\t95\t80\t55\t74\t\n",
      "64\t69\t53\t72\t73\t\n",
      "95\t62\t81\t57\t56\t\n",
      "94\t66\t93\t59\t91\t\n",
      "82\t68\t82\t87\t82\t\n",
      "86\t85\t89\t85\t51\t\n",
      "67\t56\t69\t50\t84\t\n",
      "94\t69\t67\t68\t73\t\n",
      "54\t59\t95\t53\t85\t\n",
      "68\t84\t72\t94\t92\t\n",
      "88\t86\t72\t61\t97\t\n",
      "93\t76\t85\t82\t90\t\n",
      "69\t85\t95\t83\t81\t\n",
      "78\t57\t79\t52\t84\t\n",
      "96\t80\t72\t52\t69\t\n",
      "80\t69\t62\t93\t66\t\n",
      "85\t90\t75\t84\t54\t\n",
      "56\t66\t73\t98\t67\t\n",
      "51\t98\t88\t82\t95\t\n",
      "68\t83\t77\t80\t94\t\n",
      "70\t62\t93\t73\t90\t\n"
     ]
    }
   ],
   "source": [
    "print(\"國文\\t英文\\t數學\\t自然\\t社會\")\n",
    "for score in students:\n",
    "    for item in score:\n",
    "        print(item,end=\"\\t\")\n",
    "    print()"
   ]
  },
  {
   "cell_type": "code",
   "execution_count": null,
   "metadata": {},
   "outputs": [],
   "source": [
    "#list comprehension\n",
    "\n",
    "[i for i in range(100)]"
   ]
  },
  {
   "cell_type": "code",
   "execution_count": 5,
   "metadata": {},
   "outputs": [
    {
     "data": {
      "text/plain": [
       "[0,\n",
       " 2,\n",
       " 4,\n",
       " 6,\n",
       " 8,\n",
       " 10,\n",
       " 12,\n",
       " 14,\n",
       " 16,\n",
       " 18,\n",
       " 20,\n",
       " 22,\n",
       " 24,\n",
       " 26,\n",
       " 28,\n",
       " 30,\n",
       " 32,\n",
       " 34,\n",
       " 36,\n",
       " 38,\n",
       " 40,\n",
       " 42,\n",
       " 44,\n",
       " 46,\n",
       " 48,\n",
       " 50,\n",
       " 52,\n",
       " 54,\n",
       " 56,\n",
       " 58,\n",
       " 60,\n",
       " 62,\n",
       " 64,\n",
       " 66,\n",
       " 68,\n",
       " 70,\n",
       " 72,\n",
       " 74,\n",
       " 76,\n",
       " 78,\n",
       " 80,\n",
       " 82,\n",
       " 84,\n",
       " 86,\n",
       " 88,\n",
       " 90,\n",
       " 92,\n",
       " 94,\n",
       " 96,\n",
       " 98]"
      ]
     },
     "execution_count": 5,
     "metadata": {},
     "output_type": "execute_result"
    }
   ],
   "source": [
    "[i for i in range(100) if i % 2 == 0]"
   ]
  }
 ],
 "metadata": {
  "kernelspec": {
   "display_name": "base",
   "language": "python",
   "name": "python3"
  },
  "language_info": {
   "codemirror_mode": {
    "name": "ipython",
    "version": 3
   },
   "file_extension": ".py",
   "mimetype": "text/x-python",
   "name": "python",
   "nbconvert_exporter": "python",
   "pygments_lexer": "ipython3",
   "version": "3.9.5"
  },
  "orig_nbformat": 4,
  "vscode": {
   "interpreter": {
    "hash": "a9391e16228f5136a53fd3fb901c1173d6e2abcfe5a3cb5d30388034d9264892"
   }
  }
 },
 "nbformat": 4,
 "nbformat_minor": 2
}
