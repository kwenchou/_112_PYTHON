{
 "cells": [
  {
   "cell_type": "code",
   "execution_count": 16,
   "metadata": {},
   "outputs": [
    {
     "data": {
      "text/plain": [
       "[[90, 75, 95, 63, 60],\n",
       " [73, 84, 95, 51, 89],\n",
       " [79, 79, 96, 56, 62],\n",
       " [74, 63, 76, 100, 68],\n",
       " [58, 94, 65, 69, 71],\n",
       " [63, 62, 100, 81, 61],\n",
       " [65, 51, 81, 52, 56],\n",
       " [56, 71, 72, 89, 83],\n",
       " [62, 91, 55, 80, 76],\n",
       " [91, 77, 52, 94, 71],\n",
       " [82, 72, 66, 79, 72],\n",
       " [83, 85, 74, 54, 78],\n",
       " [70, 75, 56, 86, 55],\n",
       " [89, 60, 56, 100, 91],\n",
       " [59, 55, 63, 89, 57],\n",
       " [73, 96, 90, 69, 59],\n",
       " [96, 67, 86, 56, 70],\n",
       " [64, 60, 57, 62, 92],\n",
       " [99, 98, 81, 76, 86],\n",
       " [87, 82, 68, 91, 67],\n",
       " [85, 93, 78, 65, 62],\n",
       " [58, 80, 81, 93, 80],\n",
       " [88, 99, 50, 93, 97],\n",
       " [54, 80, 57, 76, 59],\n",
       " [75, 81, 92, 76, 51],\n",
       " [88, 68, 90, 89, 90],\n",
       " [65, 89, 62, 97, 78],\n",
       " [98, 55, 81, 60, 84],\n",
       " [81, 50, 79, 85, 54],\n",
       " [71, 53, 54, 79, 53],\n",
       " [72, 58, 73, 57, 64],\n",
       " [71, 65, 52, 78, 62],\n",
       " [83, 72, 53, 83, 77],\n",
       " [66, 55, 97, 65, 69],\n",
       " [66, 70, 71, 76, 62],\n",
       " [58, 95, 81, 77, 73],\n",
       " [64, 89, 69, 89, 52],\n",
       " [94, 79, 55, 74, 79],\n",
       " [61, 57, 93, 93, 75],\n",
       " [60, 89, 54, 97, 81],\n",
       " [69, 78, 88, 98, 88],\n",
       " [88, 79, 65, 86, 73],\n",
       " [67, 91, 61, 86, 90],\n",
       " [87, 88, 96, 60, 58],\n",
       " [76, 58, 100, 60, 62],\n",
       " [58, 76, 63, 85, 77],\n",
       " [76, 73, 66, 86, 80],\n",
       " [84, 71, 59, 57, 69],\n",
       " [76, 60, 60, 58, 62],\n",
       " [89, 67, 98, 65, 88]]"
      ]
     },
     "execution_count": 16,
     "metadata": {},
     "output_type": "execute_result"
    }
   ],
   "source": [
    "import random\n",
    "students = []\n",
    "for _ in range(50):\n",
    "    scores = []\n",
    "    for _ in range(5):\n",
    "        scores.append(random.randint(50,100))\n",
    "    students.append(scores)\n",
    "\n",
    "students"
   ]
  },
  {
   "cell_type": "code",
   "execution_count": 17,
   "metadata": {},
   "outputs": [
    {
     "name": "stdout",
     "output_type": "stream",
     "text": [
      "國文\t英文\t數學\t自然\t社會\n",
      "90\t75\t95\t63\t60\t\n",
      "73\t84\t95\t51\t89\t\n",
      "79\t79\t96\t56\t62\t\n",
      "74\t63\t76\t100\t68\t\n",
      "58\t94\t65\t69\t71\t\n",
      "63\t62\t100\t81\t61\t\n",
      "65\t51\t81\t52\t56\t\n",
      "56\t71\t72\t89\t83\t\n",
      "62\t91\t55\t80\t76\t\n",
      "91\t77\t52\t94\t71\t\n",
      "82\t72\t66\t79\t72\t\n",
      "83\t85\t74\t54\t78\t\n",
      "70\t75\t56\t86\t55\t\n",
      "89\t60\t56\t100\t91\t\n",
      "59\t55\t63\t89\t57\t\n",
      "73\t96\t90\t69\t59\t\n",
      "96\t67\t86\t56\t70\t\n",
      "64\t60\t57\t62\t92\t\n",
      "99\t98\t81\t76\t86\t\n",
      "87\t82\t68\t91\t67\t\n",
      "85\t93\t78\t65\t62\t\n",
      "58\t80\t81\t93\t80\t\n",
      "88\t99\t50\t93\t97\t\n",
      "54\t80\t57\t76\t59\t\n",
      "75\t81\t92\t76\t51\t\n",
      "88\t68\t90\t89\t90\t\n",
      "65\t89\t62\t97\t78\t\n",
      "98\t55\t81\t60\t84\t\n",
      "81\t50\t79\t85\t54\t\n",
      "71\t53\t54\t79\t53\t\n",
      "72\t58\t73\t57\t64\t\n",
      "71\t65\t52\t78\t62\t\n",
      "83\t72\t53\t83\t77\t\n",
      "66\t55\t97\t65\t69\t\n",
      "66\t70\t71\t76\t62\t\n",
      "58\t95\t81\t77\t73\t\n",
      "64\t89\t69\t89\t52\t\n",
      "94\t79\t55\t74\t79\t\n",
      "61\t57\t93\t93\t75\t\n",
      "60\t89\t54\t97\t81\t\n",
      "69\t78\t88\t98\t88\t\n",
      "88\t79\t65\t86\t73\t\n",
      "67\t91\t61\t86\t90\t\n",
      "87\t88\t96\t60\t58\t\n",
      "76\t58\t100\t60\t62\t\n",
      "58\t76\t63\t85\t77\t\n",
      "76\t73\t66\t86\t80\t\n",
      "84\t71\t59\t57\t69\t\n",
      "76\t60\t60\t58\t62\t\n",
      "89\t67\t98\t65\t88\t\n"
     ]
    }
   ],
   "source": [
    "print(\"國文\\t英文\\t數學\\t自然\\t社會\")\n",
    "for score in students:\n",
    "    for item in score:\n",
    "        print(item,end=\"\\t\")\n",
    "    print()"
   ]
  },
  {
   "cell_type": "code",
   "execution_count": 18,
   "metadata": {},
   "outputs": [
    {
     "data": {
      "text/plain": [
       "[0,\n",
       " 1,\n",
       " 2,\n",
       " 3,\n",
       " 4,\n",
       " 5,\n",
       " 6,\n",
       " 7,\n",
       " 8,\n",
       " 9,\n",
       " 10,\n",
       " 11,\n",
       " 12,\n",
       " 13,\n",
       " 14,\n",
       " 15,\n",
       " 16,\n",
       " 17,\n",
       " 18,\n",
       " 19,\n",
       " 20,\n",
       " 21,\n",
       " 22,\n",
       " 23,\n",
       " 24,\n",
       " 25,\n",
       " 26,\n",
       " 27,\n",
       " 28,\n",
       " 29,\n",
       " 30,\n",
       " 31,\n",
       " 32,\n",
       " 33,\n",
       " 34,\n",
       " 35,\n",
       " 36,\n",
       " 37,\n",
       " 38,\n",
       " 39,\n",
       " 40,\n",
       " 41,\n",
       " 42,\n",
       " 43,\n",
       " 44,\n",
       " 45,\n",
       " 46,\n",
       " 47,\n",
       " 48,\n",
       " 49,\n",
       " 50,\n",
       " 51,\n",
       " 52,\n",
       " 53,\n",
       " 54,\n",
       " 55,\n",
       " 56,\n",
       " 57,\n",
       " 58,\n",
       " 59,\n",
       " 60,\n",
       " 61,\n",
       " 62,\n",
       " 63,\n",
       " 64,\n",
       " 65,\n",
       " 66,\n",
       " 67,\n",
       " 68,\n",
       " 69,\n",
       " 70,\n",
       " 71,\n",
       " 72,\n",
       " 73,\n",
       " 74,\n",
       " 75,\n",
       " 76,\n",
       " 77,\n",
       " 78,\n",
       " 79,\n",
       " 80,\n",
       " 81,\n",
       " 82,\n",
       " 83,\n",
       " 84,\n",
       " 85,\n",
       " 86,\n",
       " 87,\n",
       " 88,\n",
       " 89,\n",
       " 90,\n",
       " 91,\n",
       " 92,\n",
       " 93,\n",
       " 94,\n",
       " 95,\n",
       " 96,\n",
       " 97,\n",
       " 98,\n",
       " 99]"
      ]
     },
     "execution_count": 18,
     "metadata": {},
     "output_type": "execute_result"
    }
   ],
   "source": [
    "#list comprehension\n",
    "\n",
    "[i for i in range(100)]"
   ]
  },
  {
   "cell_type": "code",
   "execution_count": 19,
   "metadata": {},
   "outputs": [
    {
     "data": {
      "text/plain": [
       "[0,\n",
       " 2,\n",
       " 4,\n",
       " 6,\n",
       " 8,\n",
       " 10,\n",
       " 12,\n",
       " 14,\n",
       " 16,\n",
       " 18,\n",
       " 20,\n",
       " 22,\n",
       " 24,\n",
       " 26,\n",
       " 28,\n",
       " 30,\n",
       " 32,\n",
       " 34,\n",
       " 36,\n",
       " 38,\n",
       " 40,\n",
       " 42,\n",
       " 44,\n",
       " 46,\n",
       " 48,\n",
       " 50,\n",
       " 52,\n",
       " 54,\n",
       " 56,\n",
       " 58,\n",
       " 60,\n",
       " 62,\n",
       " 64,\n",
       " 66,\n",
       " 68,\n",
       " 70,\n",
       " 72,\n",
       " 74,\n",
       " 76,\n",
       " 78,\n",
       " 80,\n",
       " 82,\n",
       " 84,\n",
       " 86,\n",
       " 88,\n",
       " 90,\n",
       " 92,\n",
       " 94,\n",
       " 96,\n",
       " 98]"
      ]
     },
     "execution_count": 19,
     "metadata": {},
     "output_type": "execute_result"
    }
   ],
   "source": [
    "[i for i in range(100) if i % 2 == 0]"
   ]
  },
  {
   "cell_type": "code",
   "execution_count": 20,
   "metadata": {},
   "outputs": [
    {
     "data": {
      "text/plain": [
       "[[67, 94, 78, 51, 95],\n",
       " [84, 66, 75, 77, 57],\n",
       " [90, 87, 93, 86, 67],\n",
       " [76, 55, 58, 99, 65],\n",
       " [97, 78, 87, 100, 62],\n",
       " [94, 88, 69, 100, 60],\n",
       " [79, 95, 69, 80, 61],\n",
       " [62, 88, 92, 93, 71],\n",
       " [59, 50, 79, 66, 87],\n",
       " [53, 52, 72, 92, 80],\n",
       " [90, 71, 65, 68, 61],\n",
       " [53, 82, 61, 67, 83],\n",
       " [52, 70, 57, 97, 52],\n",
       " [100, 95, 61, 76, 73],\n",
       " [87, 61, 67, 90, 95],\n",
       " [67, 91, 64, 72, 69],\n",
       " [83, 50, 83, 75, 86],\n",
       " [85, 86, 77, 62, 78],\n",
       " [82, 82, 73, 50, 59],\n",
       " [60, 52, 98, 75, 52],\n",
       " [66, 69, 57, 59, 52],\n",
       " [94, 66, 55, 84, 57],\n",
       " [100, 71, 56, 99, 74],\n",
       " [55, 67, 57, 80, 83],\n",
       " [50, 58, 94, 77, 54],\n",
       " [84, 85, 58, 91, 86],\n",
       " [60, 75, 50, 80, 71],\n",
       " [87, 71, 88, 67, 86],\n",
       " [90, 94, 100, 86, 64],\n",
       " [96, 99, 75, 92, 52],\n",
       " [96, 64, 96, 67, 54],\n",
       " [85, 98, 58, 76, 67],\n",
       " [86, 77, 79, 69, 87],\n",
       " [92, 52, 64, 74, 78],\n",
       " [81, 88, 50, 53, 52],\n",
       " [68, 100, 56, 69, 52],\n",
       " [65, 73, 85, 90, 57],\n",
       " [92, 84, 66, 57, 71],\n",
       " [54, 87, 55, 59, 60],\n",
       " [80, 91, 70, 51, 84],\n",
       " [61, 79, 51, 82, 88],\n",
       " [81, 80, 69, 95, 66],\n",
       " [96, 89, 98, 59, 85],\n",
       " [84, 81, 98, 57, 57],\n",
       " [94, 100, 78, 99, 58],\n",
       " [96, 89, 53, 85, 95],\n",
       " [84, 50, 53, 94, 74],\n",
       " [72, 96, 70, 51, 86],\n",
       " [82, 51, 51, 82, 54],\n",
       " [98, 98, 66, 56, 94]]"
      ]
     },
     "execution_count": 20,
     "metadata": {},
     "output_type": "execute_result"
    }
   ],
   "source": [
    "students = [[random.randint(50,100) for _ in range(5)] for _ in range(50)]\n",
    "students"
   ]
  },
  {
   "cell_type": "code",
   "execution_count": 21,
   "metadata": {},
   "outputs": [
    {
     "data": {
      "text/plain": [
       "{'tw': 'Taiwan', 'jp': 'Japan', 'hk': 'Hong Kong'}"
      ]
     },
     "execution_count": 21,
     "metadata": {},
     "output_type": "execute_result"
    }
   ],
   "source": [
    "codes = {\"tw\":\"Taiwan\",\n",
    "         \"jp\":\"Japan\",\n",
    "         \"hk\":\"Hong Kong\"\n",
    "         }\n",
    "\n",
    "codes"
   ]
  },
  {
   "cell_type": "code",
   "execution_count": 22,
   "metadata": {},
   "outputs": [
    {
     "data": {
      "text/plain": [
       "'Taiwan'"
      ]
     },
     "execution_count": 22,
     "metadata": {},
     "output_type": "execute_result"
    }
   ],
   "source": [
    "codes[\"tw\"]"
   ]
  },
  {
   "cell_type": "code",
   "execution_count": 23,
   "metadata": {},
   "outputs": [
    {
     "data": {
      "text/plain": [
       "{'tw': 'Taiwan', 'jp': 'Japan', 'hk': 'Hong Kong', 'us': 'US'}"
      ]
     },
     "execution_count": 23,
     "metadata": {},
     "output_type": "execute_result"
    }
   ],
   "source": [
    "codes[\"us\"] = \"US\"\n",
    "codes"
   ]
  },
  {
   "cell_type": "code",
   "execution_count": 24,
   "metadata": {},
   "outputs": [
    {
     "data": {
      "text/plain": [
       "dict"
      ]
     },
     "execution_count": 24,
     "metadata": {},
     "output_type": "execute_result"
    }
   ],
   "source": [
    "del codes[\"us\"]\n",
    "type(codes)"
   ]
  },
  {
   "cell_type": "code",
   "execution_count": 27,
   "metadata": {},
   "outputs": [
    {
     "data": {
      "text/plain": [
       "['tw', 'jp', 'hk']"
      ]
     },
     "execution_count": 27,
     "metadata": {},
     "output_type": "execute_result"
    }
   ],
   "source": [
    "list(codes.keys())"
   ]
  },
  {
   "cell_type": "code",
   "execution_count": 28,
   "metadata": {},
   "outputs": [
    {
     "data": {
      "text/plain": [
       "dict_values(['Taiwan', 'Japan', 'Hong Kong'])"
      ]
     },
     "execution_count": 28,
     "metadata": {},
     "output_type": "execute_result"
    }
   ],
   "source": [
    "list(codes.values())"
   ]
  },
  {
   "cell_type": "code",
   "execution_count": 29,
   "metadata": {},
   "outputs": [
    {
     "data": {
      "text/plain": [
       "dict_items([('tw', 'Taiwan'), ('jp', 'Japan'), ('hk', 'Hong Kong')])"
      ]
     },
     "execution_count": 29,
     "metadata": {},
     "output_type": "execute_result"
    }
   ],
   "source": [
    "codes.items()"
   ]
  },
  {
   "cell_type": "code",
   "execution_count": 30,
   "metadata": {},
   "outputs": [
    {
     "name": "stdout",
     "output_type": "stream",
     "text": [
      "tw\n",
      "Taiwan\n",
      "jp\n",
      "Japan\n",
      "hk\n",
      "Hong Kong\n"
     ]
    }
   ],
   "source": [
    "for key,value in codes.items():\n",
    "    print(key)\n",
    "    print(value)"
   ]
  }
 ],
 "metadata": {
  "kernelspec": {
   "display_name": "base",
   "language": "python",
   "name": "python3"
  },
  "language_info": {
   "codemirror_mode": {
    "name": "ipython",
    "version": 3
   },
   "file_extension": ".py",
   "mimetype": "text/x-python",
   "name": "python",
   "nbconvert_exporter": "python",
   "pygments_lexer": "ipython3",
   "version": "3.9.5"
  },
  "orig_nbformat": 4,
  "vscode": {
   "interpreter": {
    "hash": "a9391e16228f5136a53fd3fb901c1173d6e2abcfe5a3cb5d30388034d9264892"
   }
  }
 },
 "nbformat": 4,
 "nbformat_minor": 2
}
