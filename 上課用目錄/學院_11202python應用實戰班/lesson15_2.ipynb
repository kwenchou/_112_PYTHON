{
 "cells": [
  {
   "cell_type": "code",
   "execution_count": 1,
   "metadata": {},
   "outputs": [
    {
     "data": {
      "text/plain": [
       "12"
      ]
     },
     "execution_count": 1,
     "metadata": {},
     "output_type": "execute_result"
    }
   ],
   "source": [
    "#傳統的function\n",
    "def f(x, y, z) -> float:\n",
    "    return x + y + z\n",
    "\n",
    "f(3, 4, 5)"
   ]
  },
  {
   "cell_type": "code",
   "execution_count": 2,
   "metadata": {},
   "outputs": [
    {
     "data": {
      "text/plain": [
       "12"
      ]
     },
     "execution_count": 2,
     "metadata": {},
     "output_type": "execute_result"
    }
   ],
   "source": [
    "#沒有名稱的function -> lambda\n",
    "#只可以寫一行\n",
    "#會自動return \n",
    "f = lambda x,y,z : x+y+z\n",
    "\n",
    "f(3, 4, 5)"
   ]
  },
  {
   "cell_type": "code",
   "execution_count": 5,
   "metadata": {},
   "outputs": [
    {
     "name": "stdout",
     "output_type": "stream",
     "text": [
      "2\n",
      "4\n",
      "6\n",
      "8\n",
      "10\n"
     ]
    }
   ],
   "source": [
    "li1  = [1, 2, 3, 4, 5]\n",
    "\n",
    "def multiple2(x):\n",
    "    return x * 2\n",
    "\n",
    "mapObject = map(multiple2,li1)\n",
    "for i in mapObject:\n",
    "    print(i)"
   ]
  },
  {
   "cell_type": "code",
   "execution_count": 6,
   "metadata": {},
   "outputs": [
    {
     "name": "stdout",
     "output_type": "stream",
     "text": [
      "2\n",
      "4\n",
      "6\n",
      "8\n",
      "10\n"
     ]
    }
   ],
   "source": [
    "li1  = [1, 2, 3, 4, 5]\n",
    "\n",
    "mapObject = map(lambda x:x*2,li1)\n",
    "for i in mapObject:\n",
    "    print(i)"
   ]
  },
  {
   "cell_type": "code",
   "execution_count": 9,
   "metadata": {},
   "outputs": [
    {
     "data": {
      "text/plain": [
       "[1, 3, 5, 7, 9]"
      ]
     },
     "execution_count": 9,
     "metadata": {},
     "output_type": "execute_result"
    }
   ],
   "source": [
    "list(filter(lambda x:x%2==1,[1,2,3,4,5,6,7,8,9,10]))\n"
   ]
  },
  {
   "cell_type": "code",
   "execution_count": 11,
   "metadata": {},
   "outputs": [
    {
     "data": {
      "text/plain": [
       "False"
      ]
     },
     "execution_count": 11,
     "metadata": {},
     "output_type": "execute_result"
    }
   ],
   "source": [
    "greeting = \"hello\"\n",
    "isinstance(greeting,int)"
   ]
  },
  {
   "cell_type": "code",
   "execution_count": 18,
   "metadata": {},
   "outputs": [],
   "source": [
    "def add(n,m) -> float:\n",
    "    if isinstance(n,(int,float)) and isinstance(m,(int,float)):    \n",
    "        return n + m\n",
    "    else:\n",
    "        raise Exception(\"我\",\"出錯了\")"
   ]
  },
  {
   "cell_type": "code",
   "execution_count": 20,
   "metadata": {},
   "outputs": [
    {
     "data": {
      "text/plain": [
       "0"
      ]
     },
     "execution_count": 20,
     "metadata": {},
     "output_type": "execute_result"
    }
   ],
   "source": [
    "add(3, 5)\n",
    "add('3', '5')\n",
    "add('3.5', 5)"
   ]
  },
  {
   "cell_type": "code",
   "execution_count": 21,
   "metadata": {},
   "outputs": [
    {
     "ename": "IndexError",
     "evalue": "list index out of range",
     "output_type": "error",
     "traceback": [
      "\u001b[0;31m---------------------------------------------------------------------------\u001b[0m",
      "\u001b[0;31mIndexError\u001b[0m                                Traceback (most recent call last)",
      "Cell \u001b[0;32mIn[21], line 2\u001b[0m\n\u001b[1;32m      1\u001b[0m li2  \u001b[39m=\u001b[39m  [\u001b[39m1\u001b[39m, \u001b[39m2\u001b[39m, \u001b[39m3\u001b[39m]\n\u001b[0;32m----> 2\u001b[0m li2[\u001b[39m3\u001b[39;49m]\n",
      "\u001b[0;31mIndexError\u001b[0m: list index out of range"
     ]
    }
   ],
   "source": [
    "li2  =  [1, 2, 3]\n",
    "li2[3]"
   ]
  },
  {
   "cell_type": "code",
   "execution_count": 26,
   "metadata": {},
   "outputs": [],
   "source": [
    "class ParameterError(Exception):\n",
    "    pass\n",
    "\n",
    "def add(n,m) -> float:\n",
    "    if isinstance(n,(int,float)) and isinstance(m,(int,float)):    \n",
    "        return n + m\n",
    "    else:\n",
    "        raise ParameterError(\"參數出問題了\")"
   ]
  },
  {
   "cell_type": "code",
   "execution_count": 28,
   "metadata": {},
   "outputs": [
    {
     "name": "stdout",
     "output_type": "stream",
     "text": [
      "出錯了\n"
     ]
    }
   ],
   "source": [
    "try:\n",
    "    add('3',5)\n",
    "except:\n",
    "    print(\"出錯了\")"
   ]
  },
  {
   "cell_type": "code",
   "execution_count": 29,
   "metadata": {},
   "outputs": [
    {
     "name": "stdout",
     "output_type": "stream",
     "text": [
      "參數錯誤\n"
     ]
    }
   ],
   "source": [
    "try:\n",
    "    add('3',5)\n",
    "except ParameterError:\n",
    "    print(\"參數錯誤\")\n",
    "except:\n",
    "    print(\"出錯了\")"
   ]
  },
  {
   "cell_type": "code",
   "execution_count": 31,
   "metadata": {},
   "outputs": [
    {
     "name": "stdout",
     "output_type": "stream",
     "text": [
      "('參數出問題了',)\n",
      "有錯沒錯都會執行\n"
     ]
    }
   ],
   "source": [
    "try:\n",
    "    add('3',5)\n",
    "except ParameterError as err:\n",
    "    print(err.args)\n",
    "except:\n",
    "    print(\"出錯了\")\n",
    "finally:\n",
    "    print(\"有錯沒錯都會執行\")"
   ]
  },
  {
   "cell_type": "code",
   "execution_count": 32,
   "metadata": {},
   "outputs": [
    {
     "name": "stdout",
     "output_type": "stream",
     "text": [
      "沒有錯誤\n",
      "有錯沒錯都會執行\n"
     ]
    }
   ],
   "source": [
    "try:\n",
    "    add(3,5)\n",
    "except ParameterError as err:\n",
    "    print(err.args)\n",
    "except:\n",
    "    print(\"出錯了\")\n",
    "else:\n",
    "    print(\"沒有錯誤\")\n",
    "finally:\n",
    "    print(\"有錯沒錯都會執行\")"
   ]
  }
 ],
 "metadata": {
  "kernelspec": {
   "display_name": "venv",
   "language": "python",
   "name": "python3"
  },
  "language_info": {
   "codemirror_mode": {
    "name": "ipython",
    "version": 3
   },
   "file_extension": ".py",
   "mimetype": "text/x-python",
   "name": "python",
   "nbconvert_exporter": "python",
   "pygments_lexer": "ipython3",
   "version": "3.10.6"
  },
  "orig_nbformat": 4
 },
 "nbformat": 4,
 "nbformat_minor": 2
}
