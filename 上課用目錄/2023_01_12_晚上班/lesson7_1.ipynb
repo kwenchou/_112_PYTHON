{
 "cells": [
  {
   "cell_type": "code",
   "execution_count": 3,
   "metadata": {},
   "outputs": [
    {
     "data": {
      "text/plain": [
       "{'e', 'l', 'r', 't'}"
      ]
     },
     "execution_count": 3,
     "metadata": {},
     "output_type": "execute_result"
    }
   ],
   "source": [
    "s1 = set('letter')\n",
    "s1"
   ]
  },
  {
   "cell_type": "code",
   "execution_count": 4,
   "metadata": {},
   "outputs": [
    {
     "data": {
      "text/plain": [
       "{2, 4, 6, 8}"
      ]
     },
     "execution_count": 4,
     "metadata": {},
     "output_type": "execute_result"
    }
   ],
   "source": [
    "s2 = {2,4,6,8,2,4,6,8}\n",
    "s2"
   ]
  },
  {
   "cell_type": "code",
   "execution_count": 23,
   "metadata": {},
   "outputs": [
    {
     "name": "stdout",
     "output_type": "stream",
     "text": [
      "自動選號:32 38 10 22 23 24 \n",
      "特別號:27\n"
     ]
    }
   ],
   "source": [
    "#撰寫一個大樂透電腦自動選號程式，程式執行會以亂數的方式顯示1-49之間七個不重複的大樂透號碼。\n",
    "import random\n",
    "\n",
    "\n",
    "loto = set()\n",
    "while(len(loto)<7):\n",
    "    loto.add(random.randint(1,49))\n",
    "\n",
    "loto_list = list(loto)\n",
    "print('自動選號:',end='')\n",
    "for item in loto_list[:6]:\n",
    "    print(item,end=\" \")\n",
    "print()\n",
    "print(f'特別號:{loto_list[-1]}')\n"
   ]
  }
 ],
 "metadata": {
  "kernelspec": {
   "display_name": "venv",
   "language": "python",
   "name": "python3"
  },
  "language_info": {
   "codemirror_mode": {
    "name": "ipython",
    "version": 3
   },
   "file_extension": ".py",
   "mimetype": "text/x-python",
   "name": "python",
   "nbconvert_exporter": "python",
   "pygments_lexer": "ipython3",
   "version": "3.10.6"
  },
  "orig_nbformat": 4,
  "vscode": {
   "interpreter": {
    "hash": "e94d883a313f34834fc5fdfac2c43aaf5d3f3bba032050f7a269de2d63435141"
   }
  }
 },
 "nbformat": 4,
 "nbformat_minor": 2
}
