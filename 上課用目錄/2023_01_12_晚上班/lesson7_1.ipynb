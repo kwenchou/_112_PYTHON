{
 "cells": [
  {
   "cell_type": "code",
   "execution_count": 3,
   "metadata": {},
   "outputs": [
    {
     "data": {
      "text/plain": [
       "{'e', 'l', 'r', 't'}"
      ]
     },
     "execution_count": 3,
     "metadata": {},
     "output_type": "execute_result"
    }
   ],
   "source": [
    "s1 = set('letter')\n",
    "s1"
   ]
  },
  {
   "cell_type": "code",
   "execution_count": 4,
   "metadata": {},
   "outputs": [
    {
     "data": {
      "text/plain": [
       "{2, 4, 6, 8}"
      ]
     },
     "execution_count": 4,
     "metadata": {},
     "output_type": "execute_result"
    }
   ],
   "source": [
    "s2 = {2,4,6,8,2,4,6,8}\n",
    "s2"
   ]
  },
  {
   "cell_type": "code",
   "execution_count": 35,
   "metadata": {},
   "outputs": [
    {
     "name": "stdout",
     "output_type": "stream",
     "text": [
      "自動選號:6 9 29 32 38 44 \n",
      "特別號:30\n"
     ]
    }
   ],
   "source": [
    "#撰寫一個大樂透電腦自動選號程式，程式執行會以亂數的方式顯示1-49之間七個不重複的大樂透號碼。\n",
    "import random\n",
    "\n",
    "\n",
    "loto = set()\n",
    "while(len(loto)<7):\n",
    "    loto.add(random.randint(1,49))\n",
    "\n",
    "loto_list = list(loto)\n",
    "print('自動選號:',end='')\n",
    "for item in sorted(loto_list[:6]):\n",
    "    print(item,end=\" \")    \n",
    "print()\n",
    "print(f'特別號:{loto_list[-1]}')\n"
   ]
  },
  {
   "cell_type": "code",
   "execution_count": 27,
   "metadata": {},
   "outputs": [
    {
     "name": "stdout",
     "output_type": "stream",
     "text": [
      "3-5-8-9-a-b\n"
     ]
    }
   ],
   "source": [
    "print(3, 5, 8, 9, 'a', 'b',sep='-')"
   ]
  },
  {
   "cell_type": "code",
   "execution_count": 29,
   "metadata": {},
   "outputs": [
    {
     "name": "stdout",
     "output_type": "stream",
     "text": [
      "a-b\n"
     ]
    }
   ],
   "source": [
    "print('a',end=\"-\")\n",
    "print('b')"
   ]
  },
  {
   "cell_type": "code",
   "execution_count": 41,
   "metadata": {},
   "outputs": [
    {
     "name": "stdout",
     "output_type": "stream",
     "text": [
      "自動選號:6 12 33 36 38 40 \n",
      "特別號:14\n",
      "\n",
      "自動選號:13 17 41 42 43 46 \n",
      "特別號:31\n",
      "\n",
      "自動選號:3 6 14 18 40 47 \n",
      "特別號:19\n",
      "\n",
      "自動選號:6 7 9 38 39 42 \n",
      "特別號:24\n",
      "\n",
      "自動選號:3 4 7 33 34 46 \n",
      "特別號:28\n",
      "\n",
      "自動選號:3 5 8 16 36 46 \n",
      "特別號:21\n",
      "\n",
      "自動選號:4 12 25 28 33 43 \n",
      "特別號:31\n",
      "\n",
      "自動選號:6 14 15 21 36 40 \n",
      "特別號:24\n",
      "\n",
      "自動選號:4 9 12 25 30 42 \n",
      "特別號:31\n",
      "\n",
      "自動選號:7 12 14 34 42 45 \n",
      "特別號:22\n",
      "\n"
     ]
    }
   ],
   "source": [
    "import random\n",
    "def generator_loto():\n",
    "    loto = set()\n",
    "    while(len(loto)<7):\n",
    "        loto.add(random.randint(1,49))\n",
    "\n",
    "    loto_list = list(loto)\n",
    "    print('自動選號:',end='')\n",
    "    for item in sorted(loto_list[:6]):\n",
    "        print(item,end=\" \")    \n",
    "    print()\n",
    "    print(f'特別號:{loto_list[-1]}')\n",
    "\n",
    "nums = int(input('請輸入電腦自動選號組數:'))\n",
    "for i in range(nums):\n",
    "    generator_loto()\n",
    "    print()\n"
   ]
  }
 ],
 "metadata": {
  "kernelspec": {
   "display_name": "venv",
   "language": "python",
   "name": "python3"
  },
  "language_info": {
   "codemirror_mode": {
    "name": "ipython",
    "version": 3
   },
   "file_extension": ".py",
   "mimetype": "text/x-python",
   "name": "python",
   "nbconvert_exporter": "python",
   "pygments_lexer": "ipython3",
   "version": "3.10.6"
  },
  "orig_nbformat": 4,
  "vscode": {
   "interpreter": {
    "hash": "e94d883a313f34834fc5fdfac2c43aaf5d3f3bba032050f7a269de2d63435141"
   }
  }
 },
 "nbformat": 4,
 "nbformat_minor": 2
}
