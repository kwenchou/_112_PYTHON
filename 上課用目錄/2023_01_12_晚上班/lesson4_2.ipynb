{
 "cells": [
  {
   "cell_type": "code",
   "execution_count": 1,
   "metadata": {},
   "outputs": [
    {
     "name": "stdout",
     "output_type": "stream",
     "text": [
      "0\n",
      "1\n",
      "2\n",
      "3\n",
      "4\n"
     ]
    }
   ],
   "source": [
    "for x in range(5):\n",
    "    print(x)"
   ]
  },
  {
   "cell_type": "code",
   "execution_count": 2,
   "metadata": {},
   "outputs": [
    {
     "name": "stdout",
     "output_type": "stream",
     "text": [
      "1~10的加總是55\n"
     ]
    }
   ],
   "source": [
    "total = 0\n",
    "for x in range(1,11):\n",
    "    total += x\n",
    "print(f\"1~10的加總是{total}\")"
   ]
  },
  {
   "cell_type": "code",
   "execution_count": 4,
   "metadata": {},
   "outputs": [
    {
     "name": "stdout",
     "output_type": "stream",
     "text": [
      "1~100的加總是5050\n"
     ]
    }
   ],
   "source": [
    "min = int(input(\"請輸入最小值:\"))\n",
    "max = int(input(\"請輸入最大值:\"))\n",
    "total = 0\n",
    "for x in range(min,max+1):\n",
    "    total += x\n",
    "print(f\"{min}~{max}的加總是{total}\")"
   ]
  },
  {
   "cell_type": "code",
   "execution_count": 6,
   "metadata": {},
   "outputs": [
    {
     "name": "stdout",
     "output_type": "stream",
     "text": [
      "您已經存了7個月!存款的金額為33080\n"
     ]
    }
   ],
   "source": [
    "#小明想要存錢買一輛機車,機車每輛30000元，他將每月存的錢輸入，當存款足夠買機車時，就顯示提示訊息告知。\n",
    "\n",
    "deposit = 0\n",
    "month = 0\n",
    "while deposit < 30000:\n",
    "    month += 1\n",
    "    money = int(input(f\"請輸入第{month}月份要存的金額為\"))\n",
    "    deposit += money\n",
    "\n",
    "print(f\"您已經存了{month}個月!存款的金額為{deposit}\")"
   ]
  }
 ],
 "metadata": {
  "kernelspec": {
   "display_name": "venv",
   "language": "python",
   "name": "python3"
  },
  "language_info": {
   "codemirror_mode": {
    "name": "ipython",
    "version": 3
   },
   "file_extension": ".py",
   "mimetype": "text/x-python",
   "name": "python",
   "nbconvert_exporter": "python",
   "pygments_lexer": "ipython3",
   "version": "3.10.6"
  },
  "orig_nbformat": 4,
  "vscode": {
   "interpreter": {
    "hash": "e94d883a313f34834fc5fdfac2c43aaf5d3f3bba032050f7a269de2d63435141"
   }
  }
 },
 "nbformat": 4,
 "nbformat_minor": 2
}
