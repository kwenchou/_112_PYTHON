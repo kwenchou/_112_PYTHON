{
 "cells": [
  {
   "cell_type": "code",
   "execution_count": 1,
   "metadata": {},
   "outputs": [
    {
     "data": {
      "text/plain": [
       "20"
      ]
     },
     "execution_count": 1,
     "metadata": {},
     "output_type": "execute_result"
    }
   ],
   "source": [
    "words = \"That is Alice's cat.\"\n",
    "len(words)"
   ]
  },
  {
   "cell_type": "code",
   "execution_count": 2,
   "metadata": {},
   "outputs": [
    {
     "data": {
      "text/plain": [
       "5"
      ]
     },
     "execution_count": 2,
     "metadata": {},
     "output_type": "execute_result"
    }
   ],
   "source": [
    "words = \"這是我的狗\"\n",
    "len(words)"
   ]
  },
  {
   "cell_type": "code",
   "execution_count": 10,
   "metadata": {},
   "outputs": [
    {
     "name": "stdout",
     "output_type": "stream",
     "text": [
      "Taipei\n",
      "That Is Alice'S Cat.\n",
      "That is alice's cat.\n",
      "TAIWAN\n",
      "USA\n"
     ]
    }
   ],
   "source": [
    "#使用字串的實體體方法\n",
    "print('taipei'.capitalize())\n",
    "print(\"that is Alice's cat.\".title())\n",
    "print(\"that is Alice's cat.\".capitalize())\n",
    "print(\"taiwan\".upper())\n",
    "\n",
    "country = \"usa\"\n",
    "print(country.upper())"
   ]
  },
  {
   "cell_type": "code",
   "execution_count": 11,
   "metadata": {},
   "outputs": [
    {
     "name": "stdout",
     "output_type": "stream",
     "text": [
      "Hello there!\n",
      "How are you?\n",
      "I'm doing fine.\n"
     ]
    }
   ],
   "source": [
    "#脫逸字元\n",
    "print('Hello there!\\nHow are you?\\nI\\'m doing fine.')"
   ]
  },
  {
   "cell_type": "code",
   "execution_count": 12,
   "metadata": {},
   "outputs": [
    {
     "name": "stdout",
     "output_type": "stream",
     "text": [
      "Hello there!\\nHow are you?\\nI\\'m doing fine.\n"
     ]
    }
   ],
   "source": [
    "#原始字元\n",
    "print(r'Hello there!\\nHow are you?\\nI\\'m doing fine.')"
   ]
  },
  {
   "cell_type": "code",
   "execution_count": 13,
   "metadata": {},
   "outputs": [
    {
     "data": {
      "text/plain": [
       "\"Dear Alice,Eve's cat has been arrested for catnapping, cat burglary, and extortion.Sincerely,Bob\""
      ]
     },
     "execution_count": 13,
     "metadata": {},
     "output_type": "execute_result"
    }
   ],
   "source": [
    "#單行文字\n",
    "sentens = \"Dear Alice,\\\n",
    "Eve's cat has been arrested for catnapping, cat burglary, and extortion.Sincerely,Bob\"\n",
    "\n",
    "sentens"
   ]
  },
  {
   "cell_type": "code",
   "execution_count": 14,
   "metadata": {},
   "outputs": [
    {
     "name": "stdout",
     "output_type": "stream",
     "text": [
      "\n",
      "返回一个由 iterable 中的字符串拼接而成的字符串。 如果 iterable 中存在任何非字符串值包括 bytes 对象则会引发 TypeError。 调用该方法的字符串将作为元素之间的分隔。\n",
      "\n",
      "返回长度为 width 的字符串，原字符串在其中靠左对齐。 使用指定的 fillchar 填充空位 (默认使用 ASCII 空格符)。 如果 width 小于等于 len(s) 则返回原字符串的副本。\n",
      "\n"
     ]
    }
   ],
   "source": [
    "#多行文字\n",
    "\n",
    "sentens = \"\"\"\n",
    "返回一个由 iterable 中的字符串拼接而成的字符串。 如果 iterable 中存在任何非字符串值包括 bytes 对象则会引发 TypeError。 调用该方法的字符串将作为元素之间的分隔。\n",
    "\n",
    "返回长度为 width 的字符串，原字符串在其中靠左对齐。 使用指定的 fillchar 填充空位 (默认使用 ASCII 空格符)。 如果 width 小于等于 len(s) 则返回原字符串的副本。\n",
    "\"\"\"\n",
    "\n",
    "print(sentens)"
   ]
  },
  {
   "cell_type": "code",
   "execution_count": 16,
   "metadata": {},
   "outputs": [
    {
     "name": "stdout",
     "output_type": "stream",
     "text": [
      "H\n",
      "d\n",
      "d\n"
     ]
    }
   ],
   "source": [
    "#字串的索引編號\n",
    "letters = \"Hello World\"\n",
    "print(letters[0])\n",
    "print(letters[10])\n",
    "print(letters[-1])"
   ]
  },
  {
   "cell_type": "code",
   "execution_count": 22,
   "metadata": {},
   "outputs": [
    {
     "name": "stdout",
     "output_type": "stream",
     "text": [
      "Hello\n",
      "World\n",
      "Hello\n",
      "World\n",
      "Hello\n",
      "World\n"
     ]
    }
   ],
   "source": [
    "#字串的slice\n",
    "letters = \"Hello World\"\n",
    "print(letters[0:5])\n",
    "print(letters[6:])\n",
    "print(letters[:5])\n",
    "print(letters[-5:])\n",
    "\n",
    "#常用的\n",
    "print(letters[:5])\n",
    "print(letters[-5:])\n"
   ]
  },
  {
   "cell_type": "code",
   "execution_count": 30,
   "metadata": {},
   "outputs": [
    {
     "name": "stdout",
     "output_type": "stream",
     "text": [
      "Penny\n"
     ]
    }
   ],
   "source": [
    "#字串取代\n",
    "name = \"Henny\"\n",
    "#字串是不可變變數\n",
    "#name[0] = 'P' #這是錯誤的\n",
    "\n",
    "name = name.replace('H','P')\n",
    "\n",
    "print(name)\n"
   ]
  },
  {
   "cell_type": "code",
   "execution_count": 32,
   "metadata": {},
   "outputs": [
    {
     "name": "stdout",
     "output_type": "stream",
     "text": [
      "Penny\n"
     ]
    }
   ],
   "source": [
    "name = \"Henny\"\n",
    "name = 'P' + name[1:]\n",
    "print(name)"
   ]
  },
  {
   "cell_type": "code",
   "execution_count": 38,
   "metadata": {},
   "outputs": [
    {
     "name": "stdout",
     "output_type": "stream",
     "text": [
      "True\n",
      "False\n",
      "True\n",
      "False\n",
      "True\n",
      "False\n"
     ]
    }
   ],
   "source": [
    "#字串的檢查\n",
    "print('hello'.isalpha())\n",
    "print('hello123'.isalpha())\n",
    "print('123'.isdecimal())\n",
    "print('123a'.isdecimal())\n",
    "print('hello123'.isalnum())\n",
    "print('hello#123'.isalnum())"
   ]
  }
 ],
 "metadata": {
  "kernelspec": {
   "display_name": "venv",
   "language": "python",
   "name": "python3"
  },
  "language_info": {
   "codemirror_mode": {
    "name": "ipython",
    "version": 3
   },
   "file_extension": ".py",
   "mimetype": "text/x-python",
   "name": "python",
   "nbconvert_exporter": "python",
   "pygments_lexer": "ipython3",
   "version": "3.10.6"
  },
  "orig_nbformat": 4,
  "vscode": {
   "interpreter": {
    "hash": "e94d883a313f34834fc5fdfac2c43aaf5d3f3bba032050f7a269de2d63435141"
   }
  }
 },
 "nbformat": 4,
 "nbformat_minor": 2
}
