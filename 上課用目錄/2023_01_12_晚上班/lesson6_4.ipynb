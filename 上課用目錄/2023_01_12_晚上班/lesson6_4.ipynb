{
 "cells": [
  {
   "cell_type": "code",
   "execution_count": 1,
   "metadata": {},
   "outputs": [
    {
     "data": {
      "text/plain": [
       "{'name': 'robert',\n",
       " 'chinese': 89,\n",
       " 'english': 75,\n",
       " 'math': 92,\n",
       " 'history': 64,\n",
       " 'distory': 89}"
      ]
     },
     "execution_count": 1,
     "metadata": {},
     "output_type": "execute_result"
    }
   ],
   "source": [
    "scores = {}\n",
    "scores['name'] = 'robert'\n",
    "scores['chinese'] = 89\n",
    "scores['english'] = 75\n",
    "scores['math'] = 92\n",
    "scores['history'] = 64\n",
    "scores['distory'] = 89\n",
    "\n",
    "scores"
   ]
  },
  {
   "cell_type": "code",
   "execution_count": 2,
   "metadata": {},
   "outputs": [],
   "source": [
    "students = []\n",
    "score1 = {}\n",
    "score1['name'] = 'robert'\n",
    "score1['chinese'] = 89\n",
    "score1['english'] = 75\n",
    "score1['math'] = 92\n",
    "score1['history'] = 64\n",
    "score1['distory'] = 89\n",
    "students.append(score1) #加入第一個學生\n",
    "\n",
    "score2 = {}\n",
    "score2['name'] = 'jenny'\n",
    "score2['chinese'] = 97\n",
    "score2['english'] = 67\n",
    "score2['math'] = 78\n",
    "score2['history'] = 79\n",
    "score2['distory'] = 92\n",
    "students.append(score2)"
   ]
  },
  {
   "cell_type": "code",
   "execution_count": 5,
   "metadata": {},
   "outputs": [
    {
     "name": "stdout",
     "output_type": "stream",
     "text": [
      "name robert\n",
      "chinese 89\n",
      "english 75\n",
      "math 92\n",
      "history 64\n",
      "distory 89\n",
      "==============\n",
      "name jenny\n",
      "chinese 97\n",
      "english 67\n",
      "math 78\n",
      "history 79\n",
      "distory 92\n",
      "==============\n"
     ]
    }
   ],
   "source": [
    "for student in students:\n",
    "    for key in student:\n",
    "        print(key,student[key])\n",
    "    print(\"==============\")"
   ]
  }
 ],
 "metadata": {
  "kernelspec": {
   "display_name": "venv",
   "language": "python",
   "name": "python3"
  },
  "language_info": {
   "codemirror_mode": {
    "name": "ipython",
    "version": 3
   },
   "file_extension": ".py",
   "mimetype": "text/x-python",
   "name": "python",
   "nbconvert_exporter": "python",
   "pygments_lexer": "ipython3",
   "version": "3.10.6"
  },
  "orig_nbformat": 4,
  "vscode": {
   "interpreter": {
    "hash": "e94d883a313f34834fc5fdfac2c43aaf5d3f3bba032050f7a269de2d63435141"
   }
  }
 },
 "nbformat": 4,
 "nbformat_minor": 2
}
