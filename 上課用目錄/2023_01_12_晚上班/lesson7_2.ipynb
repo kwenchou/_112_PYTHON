{
 "cells": [
  {
   "cell_type": "code",
   "execution_count": 1,
   "metadata": {},
   "outputs": [],
   "source": [
    "def add(a,b):\n",
    "    return a + b"
   ]
  },
  {
   "cell_type": "code",
   "execution_count": 2,
   "metadata": {},
   "outputs": [
    {
     "data": {
      "text/plain": [
       "89.9"
      ]
     },
     "execution_count": 2,
     "metadata": {},
     "output_type": "execute_result"
    }
   ],
   "source": [
    "sum = add(54,35.9)\n",
    "sum"
   ]
  },
  {
   "cell_type": "code",
   "execution_count": 9,
   "metadata": {},
   "outputs": [
    {
     "name": "stdout",
     "output_type": "stream",
     "text": [
      "您的bmi是:26.99\n",
      "提示:過重\n",
      "您的bmi是:21.97\n",
      "提示:正常範圍\n"
     ]
    }
   ],
   "source": [
    "def bmi(height,weight):\n",
    "    return weight / (height/100) ** 2\n",
    "\n",
    "def suggest(bmi):\n",
    "    if bmi<18.5:\n",
    "        message = \"體重過輕\"\n",
    "    elif bmi<24:\n",
    "        message = \"正常範圍\"\n",
    "    elif bmi<27:\n",
    "        message = \"過重\"\n",
    "    elif bmi<30:\n",
    "        message = \"輕度肥胖\"\n",
    "    elif bmi<35:\n",
    "        message = \"中度肥胖\"\n",
    "    else:\n",
    "        message = \"重度肥胖\"\n",
    "\n",
    "    return message\n",
    "\n",
    "while(True):\n",
    "    h,w = input(\"請輸入身高,體重\").split()\n",
    "    bmi_value = bmi(int(h),int(w))\n",
    "    print(f\"您的bmi是:{bmi_value:.2f}\")\n",
    "    print(f\"提示:{suggest(bmi_value)}\")\n",
    "    input_value = int(input(\"\\n結束請按0:\"))\n",
    "    if input_value == 0:\n",
    "        break"
   ]
  },
  {
   "cell_type": "code",
   "execution_count": 11,
   "metadata": {},
   "outputs": [
    {
     "name": "stdout",
     "output_type": "stream",
     "text": [
      "您的手機號碼是:0925-658-456\n"
     ]
    }
   ],
   "source": [
    "# 檢查台灣手機號碼輸入格式(xxxx-xxx-xxx)\n",
    "def isPhoneNumber(text):\n",
    "    if len(text) != 12:\n",
    "        return False\n",
    "    elif not text[:4].isdecimal():\n",
    "        return False\n",
    "    elif text[4] != \"-\":\n",
    "        return False\n",
    "    elif not text[5:8].isdecimal():\n",
    "        return False\n",
    "    elif text[8] != \"-\":\n",
    "        return False\n",
    "    elif not text[-3:].isdecimal():\n",
    "        return False\n",
    "    else:\n",
    "        return True\n",
    "\n",
    "\n",
    "phone_num = input(\"請輸入手機號碼xxxx-xxx-xxx:\")\n",
    "if isPhoneNumber(phone_num):\n",
    "    print(f\"您的手機號碼是:{phone_num}\")\n",
    "else:\n",
    "    print(\"手機號碼格式不正確\")\n"
   ]
  }
 ],
 "metadata": {
  "kernelspec": {
   "display_name": "venv",
   "language": "python",
   "name": "python3"
  },
  "language_info": {
   "codemirror_mode": {
    "name": "ipython",
    "version": 3
   },
   "file_extension": ".py",
   "mimetype": "text/x-python",
   "name": "python",
   "nbconvert_exporter": "python",
   "pygments_lexer": "ipython3",
   "version": "3.10.6"
  },
  "orig_nbformat": 4,
  "vscode": {
   "interpreter": {
    "hash": "e94d883a313f34834fc5fdfac2c43aaf5d3f3bba032050f7a269de2d63435141"
   }
  }
 },
 "nbformat": 4,
 "nbformat_minor": 2
}
