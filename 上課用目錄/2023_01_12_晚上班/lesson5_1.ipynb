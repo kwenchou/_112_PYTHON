{
 "cells": [
  {
   "cell_type": "code",
   "execution_count": 3,
   "metadata": {},
   "outputs": [
    {
     "name": "stdout",
     "output_type": "stream",
     "text": [
      "QUEST\n",
      "程式結束\n"
     ]
    }
   ],
   "source": [
    "#請使用者輸入小寫英文字[按q會離開]:,小寫英文會變大寫\n",
    "#break 強制跳出迴圈\n",
    "\n",
    "while(True):\n",
    "    stuff = input(\"請輸入小寫英文字[按q會離開]:\")\n",
    "    if(stuff=='q'):\n",
    "        break\n",
    "    print(stuff.upper())\n",
    "\n",
    "print(\"程式結束\")"
   ]
  },
  {
   "cell_type": "code",
   "execution_count": 4,
   "metadata": {},
   "outputs": [
    {
     "name": "stdout",
     "output_type": "stream",
     "text": [
      "所有輸入的正偶數的加總是:12\n"
     ]
    }
   ],
   "source": [
    "#請設計一個程式，讓使用者輸入數值，只有加總正偶數值，不加總正奇數值，如果輸入負數，結束程式。\n",
    "#break,continue\n",
    "sum = 0\n",
    "while(True):    \n",
    "    input_value = int(input(\"請輸入數值:\"))\n",
    "    if input_value < 0:\n",
    "        break\n",
    "    elif input_value % 2 == 1 :\n",
    "        continue\n",
    "    else:\n",
    "        sum += input_value\n",
    "print(f\"所有輸入的正偶數的加總是:{sum}\")"
   ]
  },
  {
   "cell_type": "code",
   "execution_count": 37,
   "metadata": {},
   "outputs": [
    {
     "data": {
      "text/plain": [
       "54"
      ]
     },
     "execution_count": 37,
     "metadata": {},
     "output_type": "execute_result"
    }
   ],
   "source": [
    "#建立一個亂數\n",
    "import random\n",
    "random.randint(1,100)\n",
    "#random.randrange(1,101)"
   ]
  },
  {
   "cell_type": "code",
   "execution_count": 39,
   "metadata": {},
   "outputs": [
    {
     "name": "stdout",
     "output_type": "stream",
     "text": [
      "============猜數字遊戲================\n",
      "\n",
      "再大一點\n",
      "您已經猜了1次\n",
      "再大一點\n",
      "您已經猜了2次\n",
      "再小一點\n",
      "您已經猜了3次\n",
      "再小一點\n",
      "您已經猜了4次\n",
      "再小一點\n",
      "您已經猜了5次\n",
      "賓果!猜對了,答案是76\n",
      "您猜了6次\n",
      "遊戲結束\n"
     ]
    }
   ],
   "source": [
    "#猜數字遊戲\n",
    "import random\n",
    "min = 1\n",
    "max = 100\n",
    "count = 0\n",
    "guess = random.randint(min,max)\n",
    "\n",
    "print(\"============猜數字遊戲================\\n\")\n",
    "while(True):\n",
    "    keyin = int(input(f\"猜數字範圍{min}~{max}:\"))\n",
    "    count += 1\n",
    "    if (keyin >= min and keyin <= max):\n",
    "        if(keyin == guess):\n",
    "            print(f\"賓果!猜對了,答案是{guess}\")\n",
    "            print(f\"您猜了{count}次\")\n",
    "            break\n",
    "        elif (keyin > guess):\n",
    "            print(\"再小一點\")\n",
    "            max = keyin-1\n",
    "            \n",
    "        elif (keyin < guess):\n",
    "            print(\"再大一點\")\n",
    "            min = keyin+1\n",
    "        print(f\"您已經猜了{count}次\")\n",
    "    else:\n",
    "        print(\"請輸入提示範圍內的數字\")\n",
    "\n",
    "print(\"遊戲結束\")"
   ]
  }
 ],
 "metadata": {
  "kernelspec": {
   "display_name": "venv",
   "language": "python",
   "name": "python3"
  },
  "language_info": {
   "codemirror_mode": {
    "name": "ipython",
    "version": 3
   },
   "file_extension": ".py",
   "mimetype": "text/x-python",
   "name": "python",
   "nbconvert_exporter": "python",
   "pygments_lexer": "ipython3",
   "version": "3.10.6"
  },
  "orig_nbformat": 4,
  "vscode": {
   "interpreter": {
    "hash": "e94d883a313f34834fc5fdfac2c43aaf5d3f3bba032050f7a269de2d63435141"
   }
  }
 },
 "nbformat": 4,
 "nbformat_minor": 2
}
