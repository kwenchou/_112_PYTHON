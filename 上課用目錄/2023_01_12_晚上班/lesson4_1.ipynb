{
 "cells": [
  {
   "cell_type": "code",
   "execution_count": 1,
   "metadata": {},
   "outputs": [
    {
     "name": "stdout",
     "output_type": "stream",
     "text": [
      "Hello! World!\n"
     ]
    }
   ],
   "source": [
    "print(\"Hello! World!\")"
   ]
  },
  {
   "cell_type": "code",
   "execution_count": 4,
   "metadata": {},
   "outputs": [
    {
     "name": "stdout",
     "output_type": "stream",
     "text": [
      "學生分數是:80\n",
      "及格\n"
     ]
    }
   ],
   "source": [
    "scores = int(input(\"請輸入分數\"))\n",
    "if scores >= 60:\n",
    "    print(f\"學生分數是:{scores}\")\n",
    "    print(\"及格\")\n",
    "else:\n",
    "    print(f\"學生分數是:{scores}\")\n",
    "    print(\"不及格\")\n"
   ]
  },
  {
   "cell_type": "code",
   "execution_count": 7,
   "metadata": {},
   "outputs": [
    {
     "name": "stdout",
     "output_type": "stream",
     "text": [
      "獎金1000元\n"
     ]
    }
   ],
   "source": [
    "#巢狀判斷->2個以上的條件\n",
    "chinese = 100\n",
    "math = 100\n",
    "\n",
    "if chinese == 100:\n",
    "    if math == 100:\n",
    "        print(\"獎金1000元\")\n",
    "    else:\n",
    "        print(\"沒有獎金\")\n",
    "else:\n",
    "    print(\"沒有獎金\")"
   ]
  }
 ],
 "metadata": {
  "kernelspec": {
   "display_name": "venv",
   "language": "python",
   "name": "python3"
  },
  "language_info": {
   "codemirror_mode": {
    "name": "ipython",
    "version": 3
   },
   "file_extension": ".py",
   "mimetype": "text/x-python",
   "name": "python",
   "nbconvert_exporter": "python",
   "pygments_lexer": "ipython3",
   "version": "3.10.6"
  },
  "orig_nbformat": 4,
  "vscode": {
   "interpreter": {
    "hash": "e94d883a313f34834fc5fdfac2c43aaf5d3f3bba032050f7a269de2d63435141"
   }
  }
 },
 "nbformat": 4,
 "nbformat_minor": 2
}
