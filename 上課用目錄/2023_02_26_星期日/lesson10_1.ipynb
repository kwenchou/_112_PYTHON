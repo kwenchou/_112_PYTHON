{
 "cells": [
  {
   "cell_type": "code",
   "execution_count": 6,
   "metadata": {},
   "outputs": [
    {
     "name": "stdout",
     "output_type": "stream",
     "text": [
      "格式不符合\n"
     ]
    }
   ],
   "source": [
    "import re\n",
    "phone_num = input(\"請輸入手機號碼(xxxx-xxx-xxx)\")\n",
    "pattern = r\"(\\d\\d\\d\\d)-(\\d\\d\\d)-(\\d\\d\\d)\"\n",
    "phone_regex = re.compile(pattern)\n",
    "match_obj = re.match(phone_regex, phone_num)\n",
    "\n",
    "if match_obj is None:\n",
    "    print(\"格式不符合\")\n",
    "else:\n",
    "    print(f\"{match_obj.group(0)}-格式正確\")\n",
    "    print(match_obj.group(1))\n",
    "    print(match_obj.group(2))\n",
    "    print(match_obj.group(3))\n",
    "    \n"
   ]
  },
  {
   "cell_type": "code",
   "execution_count": 1,
   "metadata": {},
   "outputs": [],
   "source": [
    "import re\n",
    "\n",
    "def isPhoneNumber(text) -> bool:\n",
    "    '''\n",
    "    檢查台灣手機號碼格式是否正確\n",
    "    '''\n",
    "    pattern = r\"(\\d\\d\\d\\d)-(\\d\\d\\d)-(\\d\\d\\d)\"\n",
    "    phone_regex = re.compile(pattern)\n",
    "    match_obj = re.match(phone_regex, text)\n",
    "    if match_obj is None:\n",
    "        return False\n",
    "    else:\n",
    "        return True"
   ]
  },
  {
   "cell_type": "code",
   "execution_count": 3,
   "metadata": {},
   "outputs": [
    {
     "name": "stdout",
     "output_type": "stream",
     "text": [
      "格式不正確\n"
     ]
    }
   ],
   "source": [
    "phone_num = input(\"請輸入手機號碼(xxxx-xxx-xxx)\")\n",
    "if isPhoneNumber(phone_num):\n",
    "    print(\"格式正確\")\n",
    "else:\n",
    "    print(\"格式不正確\")"
   ]
  },
  {
   "cell_type": "code",
   "execution_count": 4,
   "metadata": {},
   "outputs": [],
   "source": [
    "def isEmail(text) -> bool:\n",
    "    '''\n",
    "    檢查email格式是否正確\n",
    "    '''\n",
    "    pattern = r\"([A-Za-z0-9]+[.-_])*[A-Za-z0-9]+@[A-Za-z0-9-]+(\\.[A-Z|a-z]{2,})+\"\n",
    "    email_regex = re.compile(pattern)\n",
    "    match_obj = re.match(email_regex, text)\n",
    "    if match_obj is None:\n",
    "        return False\n",
    "    else:\n",
    "        return True"
   ]
  },
  {
   "cell_type": "code",
   "execution_count": 6,
   "metadata": {},
   "outputs": [
    {
     "name": "stdout",
     "output_type": "stream",
     "text": [
      "格式不正確\n"
     ]
    }
   ],
   "source": [
    "email = input(\"請輸入email\")\n",
    "if isEmail(email):\n",
    "    print(\"格式正確\")\n",
    "else:\n",
    "    print(\"格式不正確\")"
   ]
  }
 ],
 "metadata": {
  "kernelspec": {
   "display_name": "Python 3",
   "language": "python",
   "name": "python3"
  },
  "language_info": {
   "codemirror_mode": {
    "name": "ipython",
    "version": 3
   },
   "file_extension": ".py",
   "mimetype": "text/x-python",
   "name": "python",
   "nbconvert_exporter": "python",
   "pygments_lexer": "ipython3",
   "version": "3.10.6"
  },
  "orig_nbformat": 4
 },
 "nbformat": 4,
 "nbformat_minor": 2
}
