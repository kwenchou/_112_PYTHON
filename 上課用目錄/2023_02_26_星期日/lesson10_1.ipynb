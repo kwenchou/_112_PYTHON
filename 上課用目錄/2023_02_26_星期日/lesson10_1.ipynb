{
 "cells": [
  {
   "cell_type": "code",
   "execution_count": 6,
   "metadata": {},
   "outputs": [
    {
     "name": "stdout",
     "output_type": "stream",
     "text": [
      "格式不符合\n"
     ]
    }
   ],
   "source": [
    "import re\n",
    "phone_num = input(\"請輸入手機號碼(xxxx-xxx-xxx)\")\n",
    "pattern = r\"(\\d\\d\\d\\d)-(\\d\\d\\d)-(\\d\\d\\d)\"\n",
    "phone_regex = re.compile(pattern)\n",
    "match_obj = re.match(phone_regex, phone_num)\n",
    "\n",
    "if match_obj is None:\n",
    "    print(\"格式不符合\")\n",
    "else:\n",
    "    print(f\"{match_obj.group(0)}-格式正確\")\n",
    "    print(match_obj.group(1))\n",
    "    print(match_obj.group(2))\n",
    "    print(match_obj.group(3))\n",
    "    \n"
   ]
  }
 ],
 "metadata": {
  "kernelspec": {
   "display_name": "Python 3",
   "language": "python",
   "name": "python3"
  },
  "language_info": {
   "codemirror_mode": {
    "name": "ipython",
    "version": 3
   },
   "file_extension": ".py",
   "mimetype": "text/x-python",
   "name": "python",
   "nbconvert_exporter": "python",
   "pygments_lexer": "ipython3",
   "version": "3.10.6"
  },
  "orig_nbformat": 4
 },
 "nbformat": 4,
 "nbformat_minor": 2
}
