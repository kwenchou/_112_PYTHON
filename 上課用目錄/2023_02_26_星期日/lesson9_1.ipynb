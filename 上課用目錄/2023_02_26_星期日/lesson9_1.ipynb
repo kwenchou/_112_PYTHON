{
 "cells": [
  {
   "cell_type": "code",
   "execution_count": 2,
   "metadata": {},
   "outputs": [],
   "source": [
    "def sayHello(name) -> str:\n",
    "    return f\"{name}您好\""
   ]
  },
  {
   "cell_type": "code",
   "execution_count": 4,
   "metadata": {},
   "outputs": [
    {
     "data": {
      "text/plain": [
       "'robert您好'"
      ]
     },
     "execution_count": 4,
     "metadata": {},
     "output_type": "execute_result"
    }
   ],
   "source": [
    "greeting = sayHello(\"robert\")\n",
    "greeting"
   ]
  },
  {
   "cell_type": "code",
   "execution_count": 13,
   "metadata": {},
   "outputs": [
    {
     "name": "stdout",
     "output_type": "stream",
     "text": [
      "3.91357\n"
     ]
    }
   ],
   "source": [
    "#解決小數點運算時出現的些微誤差\n",
    "\n",
    "from decimal import Decimal\n",
    "\n",
    "float_value = Decimal('1.56789456') + Decimal('2.345678')\n",
    "print(f'{float_value:.5f}')"
   ]
  },
  {
   "cell_type": "code",
   "execution_count": 14,
   "metadata": {},
   "outputs": [
    {
     "name": "stdout",
     "output_type": "stream",
     "text": [
      "3.91357\n"
     ]
    }
   ],
   "source": [
    "#自訂function\n",
    "def decimal_add(a,b)->Decimal:\n",
    "    return Decimal(a) + Decimal(b)\n",
    "\n",
    "float_value1 = decimal_add('1.56789456','2.345678') #呼叫function\n",
    "print(f'{float_value1:.5f}')"
   ]
  }
 ],
 "metadata": {
  "kernelspec": {
   "display_name": "Python 3",
   "language": "python",
   "name": "python3"
  },
  "language_info": {
   "codemirror_mode": {
    "name": "ipython",
    "version": 3
   },
   "file_extension": ".py",
   "mimetype": "text/x-python",
   "name": "python",
   "nbconvert_exporter": "python",
   "pygments_lexer": "ipython3",
   "version": "3.10.6"
  },
  "orig_nbformat": 4
 },
 "nbformat": 4,
 "nbformat_minor": 2
}
