{
 "cells": [
  {
   "cell_type": "code",
   "execution_count": 1,
   "metadata": {},
   "outputs": [
    {
     "data": {
      "text/plain": [
       "{'tw': '台灣', 'jp': '日本', 'hk': '香港', 'us': '美國'}"
      ]
     },
     "execution_count": 1,
     "metadata": {},
     "output_type": "execute_result"
    }
   ],
   "source": [
    "codes = {\n",
    "    \"tw\":\"台灣\",\n",
    "    \"jp\":\"日本\",\n",
    "    \"hk\":\"香港\",\n",
    "    \"us\":\"美國\"\n",
    "}\n",
    "\n",
    "codes"
   ]
  },
  {
   "cell_type": "code",
   "execution_count": 5,
   "metadata": {},
   "outputs": [
    {
     "name": "stdout",
     "output_type": "stream",
     "text": [
      "tw\n",
      "台灣\n",
      "===========\n",
      "jp\n",
      "日本\n",
      "===========\n",
      "hk\n",
      "香港\n",
      "===========\n",
      "us\n",
      "美國\n",
      "===========\n"
     ]
    }
   ],
   "source": [
    "for key in codes:\n",
    "    print(key)\n",
    "    print(codes[key])\n",
    "    print(\"===========\")"
   ]
  }
 ],
 "metadata": {
  "kernelspec": {
   "display_name": "Python 3",
   "language": "python",
   "name": "python3"
  },
  "language_info": {
   "codemirror_mode": {
    "name": "ipython",
    "version": 3
   },
   "file_extension": ".py",
   "mimetype": "text/x-python",
   "name": "python",
   "nbconvert_exporter": "python",
   "pygments_lexer": "ipython3",
   "version": "3.9.6"
  },
  "orig_nbformat": 4
 },
 "nbformat": 4,
 "nbformat_minor": 2
}
