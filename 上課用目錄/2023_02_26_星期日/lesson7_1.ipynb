{
 "cells": [
  {
   "cell_type": "code",
   "execution_count": null,
   "metadata": {},
   "outputs": [],
   "source": [
    "x1 = 10\n",
    "y1 = 25.3\n",
    "\n",
    "x2 = 17.5\n",
    "y2 = 89.3"
   ]
  },
  {
   "cell_type": "code",
   "execution_count": 1,
   "metadata": {},
   "outputs": [
    {
     "name": "stdout",
     "output_type": "stream",
     "text": [
      "(10, 25.3)\n",
      "(17.5, 89.3)\n"
     ]
    }
   ],
   "source": [
    "#tuple,2個值暫時組合在一起\n",
    "point1 = (10, 25.3)\n",
    "point2 = (17.5, 89.3)\n",
    "\n",
    "print(point1)\n",
    "print(point2)"
   ]
  },
  {
   "cell_type": "code",
   "execution_count": 4,
   "metadata": {},
   "outputs": [
    {
     "name": "stdout",
     "output_type": "stream",
     "text": [
      "10\n",
      "25.3\n"
     ]
    }
   ],
   "source": [
    "def get_point() -> tuple:\n",
    "    return (10, 25.3)\n",
    "\n",
    "#使用拆解法,建立2個變數\n",
    "x, y = get_point()\n",
    "\n",
    "print(x)\n",
    "print(y)"
   ]
  }
 ],
 "metadata": {
  "kernelspec": {
   "display_name": "Python 3",
   "language": "python",
   "name": "python3"
  },
  "language_info": {
   "codemirror_mode": {
    "name": "ipython",
    "version": 3
   },
   "file_extension": ".py",
   "mimetype": "text/x-python",
   "name": "python",
   "nbconvert_exporter": "python",
   "pygments_lexer": "ipython3",
   "version": "3.9.6"
  },
  "orig_nbformat": 4
 },
 "nbformat": 4,
 "nbformat_minor": 2
}
