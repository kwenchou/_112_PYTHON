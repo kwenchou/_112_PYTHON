{
 "cells": [
  {
   "cell_type": "code",
   "execution_count": 7,
   "metadata": {},
   "outputs": [
    {
     "name": "stdout",
     "output_type": "stream",
     "text": [
      "行政區,路名,方向,起點,迄點,速限,管制原因,建議替代動線\n",
      "內湖區,堤頂大道1段,北往南,港墘路,南京東路,70,屬堤頂大道快速道路系統，於規劃通車時即劃設。,左轉港墘路-右轉港墘路221巷-左轉陽光街-右轉瑞湖街-直行過涵洞右轉民權東路6段11巷25弄-左轉舊宗路-南京東路\n",
      "中山區,大直橋往 明水路匝道,南往北,匝道入口處,明水路,50,於明水路匝道開放通車時即劃設。,大直橋-北安路-明水路\n",
      "大同區,環河北路,北往南,社中街,民生西路,60,屬環河快速道路系統，於規劃通車時即劃設。,環河北路-社中街-延平北路\n",
      "中正區,忠孝西路,西往東,重慶南路,中山北路,50,忠孝西路1段為各線公車或客運及交通匯集路段，公車進出站操作較易與機慢車動線交織造成行車衝突點多的風險，故早期即已規劃忠孝西路1段禁行機慢車。,\"1.中華路-延平北路-市民大道\n",
      "2.重慶南路-漢口街-館前路-市民大道\"\n",
      "中正區,忠孝西路,東往西,中山北路,重慶南路,50,忠孝西路1段為各線公車或客運及交通匯集路段，公車進出站操作較易與機慢車動線交織造成行車衝突點多的風險，故早期即已規劃忠孝西路1段禁行機慢車。,中山北路-市民大道\n",
      "\n"
     ]
    }
   ],
   "source": [
    "import requests\n",
    "\n",
    "url = 'https://data.taipei/api/dataset/efe9a83f-023d-420f-8e63-872fd2c12df8/resource/2c833533-071f-4b3c-9d17-39662d805b66/download'\n",
    "\n",
    "response = requests.get(url)\n",
    "response.encoding = 'big5'\n",
    "print(response.text)"
   ]
  },
  {
   "cell_type": "code",
   "execution_count": 10,
   "metadata": {},
   "outputs": [],
   "source": [
    "import os\n",
    "\n",
    "direction_path = os.path.abspath('./csv_file')\n",
    "filename = '平面路段禁行機車.csv'\n",
    "save_path = os.path.join(direction_path, filename)\n",
    "\n",
    "file = open(save_path,mode='w',encoding='utf-8')\n",
    "file.write(response.text)\n",
    "file.close()"
   ]
  }
 ],
 "metadata": {
  "kernelspec": {
   "display_name": "venv",
   "language": "python",
   "name": "python3"
  },
  "language_info": {
   "codemirror_mode": {
    "name": "ipython",
    "version": 3
   },
   "file_extension": ".py",
   "mimetype": "text/x-python",
   "name": "python",
   "nbconvert_exporter": "python",
   "pygments_lexer": "ipython3",
   "version": "3.10.6"
  },
  "orig_nbformat": 4
 },
 "nbformat": 4,
 "nbformat_minor": 2
}
