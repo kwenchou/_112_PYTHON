{
 "cells": [
  {
   "cell_type": "code",
   "execution_count": 5,
   "metadata": {},
   "outputs": [],
   "source": [
    "import os.path\n",
    "import csv\n",
    "\n",
    "directory = os.path.abspath('./csv_file')\n",
    "filename = '個股日成交資訊.csv'\n",
    "csv_path = os.path.join(directory,filename)\n",
    "file = open(csv_path,encoding='utf-8',newline='')\n",
    "csv_reader = csv.DictReader(file)\n",
    "list_csv = list(csv_reader)\n",
    "file.close()"
   ]
  },
  {
   "cell_type": "code",
   "execution_count": 7,
   "metadata": {},
   "outputs": [
    {
     "name": "stdout",
     "output_type": "stream",
     "text": [
      "{'證券代號': '00636', '證券名稱': '國泰中國A50', '成交股數': '1,812,020', '成交金額': '35,264,078', '開盤價': '19.39', '最高價': '19.61', '最低價': '19.31', '收盤價': '19.31', '漲跌價差': '-0.08', '成交筆數': '522'}\n"
     ]
    }
   ],
   "source": [
    "for item in list_csv:\n",
    "    if item['證券名稱'] == '國泰中國A50':\n",
    "        print(item)"
   ]
  }
 ],
 "metadata": {
  "kernelspec": {
   "display_name": "Python 3",
   "language": "python",
   "name": "python3"
  },
  "language_info": {
   "codemirror_mode": {
    "name": "ipython",
    "version": 3
   },
   "file_extension": ".py",
   "mimetype": "text/x-python",
   "name": "python",
   "nbconvert_exporter": "python",
   "pygments_lexer": "ipython3",
   "version": "3.9.6"
  },
  "orig_nbformat": 4
 },
 "nbformat": 4,
 "nbformat_minor": 2
}
