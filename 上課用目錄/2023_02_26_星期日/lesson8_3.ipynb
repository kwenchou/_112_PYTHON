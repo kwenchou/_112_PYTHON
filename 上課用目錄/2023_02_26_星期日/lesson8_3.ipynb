{
 "cells": [
  {
   "cell_type": "code",
   "execution_count": 5,
   "metadata": {},
   "outputs": [
    {
     "data": {
      "text/plain": [
       "'/Users/roberthsu/Documents/GitHub/python/上課用目錄/2023_02_26_星期日/csv_file/student_scores.csv'"
      ]
     },
     "execution_count": 5,
     "metadata": {},
     "output_type": "execute_result"
    }
   ],
   "source": [
    "import os.path\n",
    "\n",
    "directory = os.path.abspath('./csv_file')\n",
    "filename = 'student_scores.csv'\n",
    "csv_path = os.path.join(directory,filename)\n",
    "csv_path"
   ]
  },
  {
   "cell_type": "code",
   "execution_count": 6,
   "metadata": {},
   "outputs": [
    {
     "name": "stdout",
     "output_type": "stream",
     "text": [
      "<_io.TextIOWrapper name='/Users/roberthsu/Documents/GitHub/python/上課用目錄/2023_02_26_星期日/csv_file/student_scores.csv' mode='r' encoding='utf-8'>\n"
     ]
    }
   ],
   "source": [
    "file = open(csv_path,encoding='utf-8',newline='')\n",
    "print(file)\n",
    "file.close()"
   ]
  }
 ],
 "metadata": {
  "kernelspec": {
   "display_name": "Python 3",
   "language": "python",
   "name": "python3"
  },
  "language_info": {
   "codemirror_mode": {
    "name": "ipython",
    "version": 3
   },
   "file_extension": ".py",
   "mimetype": "text/x-python",
   "name": "python",
   "nbconvert_exporter": "python",
   "pygments_lexer": "ipython3",
   "version": "3.9.6"
  },
  "orig_nbformat": 4
 },
 "nbformat": 4,
 "nbformat_minor": 2
}
