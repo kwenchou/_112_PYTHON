{
 "cells": [
  {
   "cell_type": "code",
   "execution_count": 2,
   "metadata": {},
   "outputs": [
    {
     "name": "stdout",
     "output_type": "stream",
     "text": [
      "對邊是2.5,斜邊是5,角度是:30\n"
     ]
    }
   ],
   "source": [
    "import math\n",
    "a = eval(input(\"請輸入直角三角形對邊:\"))\n",
    "b = eval(input(\"請輸入直角三角形斜邊:\"))\n",
    "\n",
    "radian = math.asin(a/b)\n",
    "degree = math.degrees(radian)\n",
    "\n",
    "print(f\"對邊是{a},斜邊是{b},角度是:{round(degree)}\")"
   ]
  },
  {
   "cell_type": "code",
   "execution_count": null,
   "metadata": {},
   "outputs": [],
   "source": [
    "\n",
    "n = 10\n",
    "n + 5\n",
    "print(n)"
   ]
  },
  {
   "cell_type": "code",
   "execution_count": 3,
   "metadata": {},
   "outputs": [
    {
     "name": "stdout",
     "output_type": "stream",
     "text": [
      "15\n"
     ]
    }
   ],
   "source": [
    "n = 10\n",
    "n = n + 5\n",
    "print(n)"
   ]
  },
  {
   "cell_type": "code",
   "execution_count": 4,
   "metadata": {},
   "outputs": [
    {
     "name": "stdout",
     "output_type": "stream",
     "text": [
      "15\n"
     ]
    }
   ],
   "source": [
    "#複合指定運算子\n",
    "\n",
    "n = 10\n",
    "n += 5\n",
    "print(n)"
   ]
  },
  {
   "attachments": {},
   "cell_type": "markdown",
   "metadata": {},
   "source": [
    "### Homework(complex_s.py):\n",
    "\n",
    "- 請以(複合指定運算子)設計程式,讓用者輸入三個任意數，程式會顯示3數相加的總和(float)\n",
    "  \n",
    "```\n",
    "請輸入第一個數:87.9\n",
    "請輸入第二個數:45\n",
    "請輸入等三個數:87.5\n",
    "三個數的總和為:220.4\n",
    "```"
   ]
  },
  {
   "cell_type": "code",
   "execution_count": 5,
   "metadata": {},
   "outputs": [
    {
     "name": "stdout",
     "output_type": "stream",
     "text": [
      "三個數的總和為:60\n"
     ]
    }
   ],
   "source": [
    "total = 0\n",
    "value = eval(input('請輸入第1個數:'))\n",
    "total += value\n",
    "\n",
    "value = eval(input('請輸入第2個數:'))\n",
    "total += value\n",
    "\n",
    "value = eval(input('請輸入第3個數:'))\n",
    "total += value\n",
    "\n",
    "print(f\"三個數的總和為:{total}\")"
   ]
  }
 ],
 "metadata": {
  "kernelspec": {
   "display_name": "Python 3",
   "language": "python",
   "name": "python3"
  },
  "language_info": {
   "codemirror_mode": {
    "name": "ipython",
    "version": 3
   },
   "file_extension": ".py",
   "mimetype": "text/x-python",
   "name": "python",
   "nbconvert_exporter": "python",
   "pygments_lexer": "ipython3",
   "version": "3.9.6"
  },
  "orig_nbformat": 4
 },
 "nbformat": 4,
 "nbformat_minor": 2
}
