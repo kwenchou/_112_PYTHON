{
 "cells": [
  {
   "cell_type": "code",
   "execution_count": 7,
   "metadata": {},
   "outputs": [
    {
     "name": "stdout",
     "output_type": "stream",
     "text": [
      "5\n",
      "10\n",
      "total=15\n"
     ]
    }
   ],
   "source": [
    "m = 5\n",
    "print(m)\n",
    "\n",
    "n = 10\n",
    "print(n)\n",
    "\n",
    "total = m + n\n",
    "\n",
    "#使用加運算子建立一個字串\n",
    "print(\"total=\" + str(total))\n",
    "\n"
   ]
  },
  {
   "cell_type": "code",
   "execution_count": 8,
   "metadata": {},
   "outputs": [
    {
     "name": "stdout",
     "output_type": "stream",
     "text": [
      "total=15\n"
     ]
    }
   ],
   "source": [
    "#使用字串插補建立一個字串\n",
    "print(f\"total={total}\")"
   ]
  },
  {
   "cell_type": "code",
   "execution_count": 9,
   "metadata": {},
   "outputs": [
    {
     "name": "stdout",
     "output_type": "stream",
     "text": [
      "5+10=15\n"
     ]
    }
   ],
   "source": [
    "#使用加運算子建立一個字串\n",
    "print(str(m) + \"+\" + str(n) + \"=\" + str(total))"
   ]
  },
  {
   "cell_type": "code",
   "execution_count": 10,
   "metadata": {},
   "outputs": [
    {
     "name": "stdout",
     "output_type": "stream",
     "text": [
      "5+10=15\n"
     ]
    }
   ],
   "source": [
    "#使用字串插補建立一個字串\n",
    "\n",
    "print(f\"{m}+{n}={total}\")"
   ]
  },
  {
   "cell_type": "code",
   "execution_count": 13,
   "metadata": {},
   "outputs": [
    {
     "name": "stdout",
     "output_type": "stream",
     "text": [
      "PI=3.14159623\n",
      "PI=3.14\n",
      "PI=3.142\n"
     ]
    }
   ],
   "source": [
    "PI = 3.14159623\n",
    "\n",
    "print(f\"PI={PI}\")\n",
    "print(f\"PI={PI:.2f}\")\n",
    "print(f\"PI={PI:.3f}\")"
   ]
  },
  {
   "cell_type": "code",
   "execution_count": 14,
   "metadata": {},
   "outputs": [
    {
     "data": {
      "text/plain": [
       "'50'"
      ]
     },
     "execution_count": 14,
     "metadata": {},
     "output_type": "execute_result"
    }
   ],
   "source": [
    "input()"
   ]
  },
  {
   "cell_type": "code",
   "execution_count": 15,
   "metadata": {},
   "outputs": [
    {
     "data": {
      "text/plain": [
       "'50'"
      ]
     },
     "execution_count": 15,
     "metadata": {},
     "output_type": "execute_result"
    }
   ],
   "source": [
    "input(\"請輸入一個數字\")"
   ]
  },
  {
   "cell_type": "code",
   "execution_count": 16,
   "metadata": {},
   "outputs": [
    {
     "ename": "TypeError",
     "evalue": "raw_input() takes from 1 to 2 positional arguments but 3 were given",
     "output_type": "error",
     "traceback": [
      "\u001b[0;31m---------------------------------------------------------------------------\u001b[0m",
      "\u001b[0;31mTypeError\u001b[0m                                 Traceback (most recent call last)",
      "Cell \u001b[0;32mIn[16], line 1\u001b[0m\n\u001b[0;32m----> 1\u001b[0m \u001b[39minput\u001b[39;49m(\u001b[39m\"\u001b[39;49m\u001b[39m請輸入\u001b[39;49m\u001b[39m\"\u001b[39;49m,\u001b[39m\"\u001b[39;49m\u001b[39m一個數字\u001b[39;49m\u001b[39m\"\u001b[39;49m)\n",
      "\u001b[0;31mTypeError\u001b[0m: raw_input() takes from 1 to 2 positional arguments but 3 were given"
     ]
    }
   ],
   "source": [
    "input(\"請輸入\",\"一個數字\")"
   ]
  },
  {
   "cell_type": "code",
   "execution_count": 19,
   "metadata": {},
   "outputs": [
    {
     "name": "stdout",
     "output_type": "stream",
     "text": [
      "2數相加=158023\n"
     ]
    }
   ],
   "source": [
    "s1 = input(\"請輸入第1個數字:\")\n",
    "s2 = input(\"請輸入第2個數字:\")\n",
    "s3 = int(s1) + int(s2)\n",
    "print(f\"2數相加={s3}\")"
   ]
  },
  {
   "cell_type": "code",
   "execution_count": 20,
   "metadata": {},
   "outputs": [
    {
     "name": "stdout",
     "output_type": "stream",
     "text": [
      "2數相加=30\n"
     ]
    }
   ],
   "source": [
    "s1 = int(input(\"請輸入第1個數字:\"))\n",
    "s2 = int(input(\"請輸入第2個數字:\"))\n",
    "s3 = s1 + s2\n",
    "print(f\"2數相加={s3}\")"
   ]
  },
  {
   "cell_type": "code",
   "execution_count": 21,
   "metadata": {},
   "outputs": [
    {
     "ename": "ValueError",
     "evalue": "invalid literal for int() with base 10: '45.6'",
     "output_type": "error",
     "traceback": [
      "\u001b[0;31m---------------------------------------------------------------------------\u001b[0m",
      "\u001b[0;31mValueError\u001b[0m                                Traceback (most recent call last)",
      "Cell \u001b[0;32mIn[21], line 1\u001b[0m\n\u001b[0;32m----> 1\u001b[0m s1 \u001b[39m=\u001b[39m \u001b[39mint\u001b[39;49m(\u001b[39minput\u001b[39;49m(\u001b[39m\"\u001b[39;49m\u001b[39m請輸入第1個數字:\u001b[39;49m\u001b[39m\"\u001b[39;49m))\n",
      "\u001b[0;31mValueError\u001b[0m: invalid literal for int() with base 10: '45.6'"
     ]
    }
   ],
   "source": [
    "s1 = int(input(\"請輸入第1個數字:\"))"
   ]
  },
  {
   "cell_type": "code",
   "execution_count": 24,
   "metadata": {},
   "outputs": [
    {
     "data": {
      "text/plain": [
       "45"
      ]
     },
     "execution_count": 24,
     "metadata": {},
     "output_type": "execute_result"
    }
   ],
   "source": [
    "int(float(\"45.6\"))"
   ]
  },
  {
   "cell_type": "code",
   "execution_count": 27,
   "metadata": {},
   "outputs": [
    {
     "name": "stdout",
     "output_type": "stream",
     "text": [
      "2數相加=2.2\n"
     ]
    }
   ],
   "source": [
    "#使用eval()->將字串轉成純值\n",
    "\n",
    "s1 = eval(input(\"請輸入第1個數字:\"))\n",
    "s2 = eval(input(\"請輸入第2個數字:\"))\n",
    "s3 = s1 + s2\n",
    "print(f\"2數相加={s3}\")"
   ]
  }
 ],
 "metadata": {
  "kernelspec": {
   "display_name": "Python 3",
   "language": "python",
   "name": "python3"
  },
  "language_info": {
   "codemirror_mode": {
    "name": "ipython",
    "version": 3
   },
   "file_extension": ".py",
   "mimetype": "text/x-python",
   "name": "python",
   "nbconvert_exporter": "python",
   "pygments_lexer": "ipython3",
   "version": "3.9.6"
  },
  "orig_nbformat": 4
 },
 "nbformat": 4,
 "nbformat_minor": 2
}
