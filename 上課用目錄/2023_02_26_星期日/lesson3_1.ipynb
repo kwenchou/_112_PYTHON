{
 "cells": [
  {
   "cell_type": "code",
   "execution_count": 7,
   "metadata": {},
   "outputs": [
    {
     "name": "stdout",
     "output_type": "stream",
     "text": [
      "5\n",
      "10\n",
      "total=15\n"
     ]
    }
   ],
   "source": [
    "m = 5\n",
    "print(m)\n",
    "\n",
    "n = 10\n",
    "print(n)\n",
    "\n",
    "total = m + n\n",
    "\n",
    "#使用加運算子建立一個字串\n",
    "print(\"total=\" + str(total))\n",
    "\n"
   ]
  },
  {
   "cell_type": "code",
   "execution_count": 8,
   "metadata": {},
   "outputs": [
    {
     "name": "stdout",
     "output_type": "stream",
     "text": [
      "total=15\n"
     ]
    }
   ],
   "source": [
    "#使用字串插補建立一個字串\n",
    "print(f\"total={total}\")"
   ]
  },
  {
   "cell_type": "code",
   "execution_count": 9,
   "metadata": {},
   "outputs": [
    {
     "name": "stdout",
     "output_type": "stream",
     "text": [
      "5+10=15\n"
     ]
    }
   ],
   "source": [
    "#使用加運算子建立一個字串\n",
    "print(str(m) + \"+\" + str(n) + \"=\" + str(total))"
   ]
  },
  {
   "cell_type": "code",
   "execution_count": 10,
   "metadata": {},
   "outputs": [
    {
     "name": "stdout",
     "output_type": "stream",
     "text": [
      "5+10=15\n"
     ]
    }
   ],
   "source": [
    "#使用字串插補建立一個字串\n",
    "\n",
    "print(f\"{m}+{n}={total}\")"
   ]
  },
  {
   "cell_type": "code",
   "execution_count": 13,
   "metadata": {},
   "outputs": [
    {
     "name": "stdout",
     "output_type": "stream",
     "text": [
      "PI=3.14159623\n",
      "PI=3.14\n",
      "PI=3.142\n"
     ]
    }
   ],
   "source": [
    "PI = 3.14159623\n",
    "\n",
    "print(f\"PI={PI}\")\n",
    "print(f\"PI={PI:.2f}\")\n",
    "print(f\"PI={PI:.3f}\")"
   ]
  }
 ],
 "metadata": {
  "kernelspec": {
   "display_name": "Python 3",
   "language": "python",
   "name": "python3"
  },
  "language_info": {
   "codemirror_mode": {
    "name": "ipython",
    "version": 3
   },
   "file_extension": ".py",
   "mimetype": "text/x-python",
   "name": "python",
   "nbconvert_exporter": "python",
   "pygments_lexer": "ipython3",
   "version": "3.9.6"
  },
  "orig_nbformat": 4
 },
 "nbformat": 4,
 "nbformat_minor": 2
}
