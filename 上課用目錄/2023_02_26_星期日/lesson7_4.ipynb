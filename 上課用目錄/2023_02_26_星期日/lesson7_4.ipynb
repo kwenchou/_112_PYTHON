{
 "cells": [
  {
   "cell_type": "code",
   "execution_count": 1,
   "metadata": {},
   "outputs": [
    {
     "data": {
      "text/plain": [
       "({}, {})"
      ]
     },
     "execution_count": 1,
     "metadata": {},
     "output_type": "execute_result"
    }
   ],
   "source": [
    "#dictionary dict\n",
    "#建立空的dict\n",
    "\n",
    "dict1 = {}\n",
    "dict2 = dict()\n",
    "\n",
    "dict1, dict2"
   ]
  },
  {
   "cell_type": "code",
   "execution_count": 3,
   "metadata": {},
   "outputs": [
    {
     "data": {
      "text/plain": [
       "({'one': 1, 'two': 2, 'three': 3}, {'one': 1, 'two': 2, 'three': 3})"
      ]
     },
     "execution_count": 3,
     "metadata": {},
     "output_type": "execute_result"
    }
   ],
   "source": [
    "dict3 = {'one':1,'two':2,'three':3}\n",
    "\n",
    "dict4 = dict([('one',1), ('two',2), ('three',3)])\n",
    "\n",
    "\n",
    "dict3, dict4"
   ]
  },
  {
   "cell_type": "code",
   "execution_count": 4,
   "metadata": {},
   "outputs": [
    {
     "data": {
      "text/plain": [
       "(1, 2, 3)"
      ]
     },
     "execution_count": 4,
     "metadata": {},
     "output_type": "execute_result"
    }
   ],
   "source": [
    "dict3['one'] , dict3['two'], dict3['three']"
   ]
  },
  {
   "cell_type": "code",
   "execution_count": 8,
   "metadata": {},
   "outputs": [
    {
     "data": {
      "text/plain": [
       "{'chinese': 60, 'english': 89, 'math': 90, 'history': 90, 'discovery': 65}"
      ]
     },
     "execution_count": 8,
     "metadata": {},
     "output_type": "execute_result"
    }
   ],
   "source": [
    "score = {'chinese':78, 'english':89, 'math':90}\n",
    "score['history'] = 90\n",
    "score['discovery'] = 65\n",
    "score['chinese'] = 60\n",
    "score"
   ]
  },
  {
   "cell_type": "code",
   "execution_count": 9,
   "metadata": {},
   "outputs": [
    {
     "data": {
      "text/plain": [
       "{'chinese': 91, 'english': 60, 'math': 76, 'history': 93, 'discovery': 55}"
      ]
     },
     "execution_count": 9,
     "metadata": {},
     "output_type": "execute_result"
    }
   ],
   "source": [
    "import random\n",
    "def get_score() -> dict:\n",
    "    return {'chinese':random.randint(50,100),\n",
    "            'english':random.randint(50,100),\n",
    "            'math':random.randint(50,100),\n",
    "            'history':random.randint(50,100),\n",
    "            'discovery':random.randint(50,100)\n",
    "            }\n",
    "\n",
    "get_score()"
   ]
  },
  {
   "cell_type": "code",
   "execution_count": 10,
   "metadata": {},
   "outputs": [
    {
     "data": {
      "text/plain": [
       "[{'chinese': 74, 'english': 57, 'math': 63, 'history': 91, 'discovery': 65},\n",
       " {'chinese': 72, 'english': 65, 'math': 97, 'history': 62, 'discovery': 63},\n",
       " {'chinese': 82, 'english': 73, 'math': 50, 'history': 75, 'discovery': 77},\n",
       " {'chinese': 90, 'english': 73, 'math': 85, 'history': 91, 'discovery': 60},\n",
       " {'chinese': 69, 'english': 72, 'math': 73, 'history': 57, 'discovery': 59},\n",
       " {'chinese': 92, 'english': 66, 'math': 57, 'history': 97, 'discovery': 62},\n",
       " {'chinese': 79, 'english': 84, 'math': 96, 'history': 57, 'discovery': 69},\n",
       " {'chinese': 68, 'english': 81, 'math': 61, 'history': 73, 'discovery': 78},\n",
       " {'chinese': 95, 'english': 56, 'math': 82, 'history': 75, 'discovery': 58},\n",
       " {'chinese': 64, 'english': 76, 'math': 76, 'history': 96, 'discovery': 54},\n",
       " {'chinese': 55, 'english': 90, 'math': 93, 'history': 73, 'discovery': 90},\n",
       " {'chinese': 98, 'english': 62, 'math': 72, 'history': 82, 'discovery': 52},\n",
       " {'chinese': 83, 'english': 93, 'math': 59, 'history': 57, 'discovery': 86},\n",
       " {'chinese': 59, 'english': 69, 'math': 88, 'history': 74, 'discovery': 96},\n",
       " {'chinese': 82, 'english': 78, 'math': 54, 'history': 83, 'discovery': 82},\n",
       " {'chinese': 79, 'english': 85, 'math': 70, 'history': 69, 'discovery': 53},\n",
       " {'chinese': 71, 'english': 87, 'math': 61, 'history': 69, 'discovery': 63},\n",
       " {'chinese': 80, 'english': 51, 'math': 57, 'history': 100, 'discovery': 63},\n",
       " {'chinese': 65, 'english': 58, 'math': 92, 'history': 58, 'discovery': 91},\n",
       " {'chinese': 62, 'english': 78, 'math': 70, 'history': 81, 'discovery': 98},\n",
       " {'chinese': 72, 'english': 78, 'math': 68, 'history': 78, 'discovery': 90},\n",
       " {'chinese': 50, 'english': 79, 'math': 77, 'history': 61, 'discovery': 51},\n",
       " {'chinese': 53, 'english': 82, 'math': 99, 'history': 86, 'discovery': 68},\n",
       " {'chinese': 52, 'english': 72, 'math': 83, 'history': 67, 'discovery': 78},\n",
       " {'chinese': 52, 'english': 52, 'math': 50, 'history': 56, 'discovery': 63},\n",
       " {'chinese': 76, 'english': 55, 'math': 96, 'history': 100, 'discovery': 60},\n",
       " {'chinese': 78, 'english': 81, 'math': 94, 'history': 57, 'discovery': 98},\n",
       " {'chinese': 51, 'english': 58, 'math': 95, 'history': 82, 'discovery': 80},\n",
       " {'chinese': 60, 'english': 90, 'math': 54, 'history': 62, 'discovery': 91},\n",
       " {'chinese': 63, 'english': 65, 'math': 61, 'history': 67, 'discovery': 77},\n",
       " {'chinese': 56, 'english': 86, 'math': 74, 'history': 77, 'discovery': 62},\n",
       " {'chinese': 89, 'english': 55, 'math': 85, 'history': 96, 'discovery': 76},\n",
       " {'chinese': 69, 'english': 88, 'math': 94, 'history': 71, 'discovery': 64},\n",
       " {'chinese': 80, 'english': 90, 'math': 58, 'history': 86, 'discovery': 99},\n",
       " {'chinese': 66, 'english': 75, 'math': 73, 'history': 95, 'discovery': 76},\n",
       " {'chinese': 82, 'english': 88, 'math': 86, 'history': 61, 'discovery': 54},\n",
       " {'chinese': 86, 'english': 96, 'math': 82, 'history': 89, 'discovery': 82},\n",
       " {'chinese': 51, 'english': 78, 'math': 76, 'history': 87, 'discovery': 85},\n",
       " {'chinese': 61, 'english': 74, 'math': 83, 'history': 75, 'discovery': 97},\n",
       " {'chinese': 91, 'english': 69, 'math': 61, 'history': 53, 'discovery': 74},\n",
       " {'chinese': 64, 'english': 54, 'math': 83, 'history': 70, 'discovery': 63},\n",
       " {'chinese': 75, 'english': 57, 'math': 63, 'history': 93, 'discovery': 83},\n",
       " {'chinese': 67, 'english': 50, 'math': 98, 'history': 100, 'discovery': 88},\n",
       " {'chinese': 83, 'english': 75, 'math': 98, 'history': 84, 'discovery': 94},\n",
       " {'chinese': 73, 'english': 61, 'math': 58, 'history': 50, 'discovery': 51},\n",
       " {'chinese': 57, 'english': 51, 'math': 62, 'history': 82, 'discovery': 78},\n",
       " {'chinese': 100, 'english': 65, 'math': 70, 'history': 58, 'discovery': 63},\n",
       " {'chinese': 69, 'english': 64, 'math': 83, 'history': 59, 'discovery': 60},\n",
       " {'chinese': 75, 'english': 72, 'math': 90, 'history': 67, 'discovery': 67},\n",
       " {'chinese': 85, 'english': 97, 'math': 83, 'history': 66, 'discovery': 61}]"
      ]
     },
     "execution_count": 10,
     "metadata": {},
     "output_type": "execute_result"
    }
   ],
   "source": [
    "student_50 = []\n",
    "for _ in range(50):\n",
    "    student_50.append(get_score())\n",
    "student_50"
   ]
  }
 ],
 "metadata": {
  "kernelspec": {
   "display_name": "Python 3",
   "language": "python",
   "name": "python3"
  },
  "language_info": {
   "codemirror_mode": {
    "name": "ipython",
    "version": 3
   },
   "file_extension": ".py",
   "mimetype": "text/x-python",
   "name": "python",
   "nbconvert_exporter": "python",
   "pygments_lexer": "ipython3",
   "version": "3.9.6"
  },
  "orig_nbformat": 4
 },
 "nbformat": 4,
 "nbformat_minor": 2
}
