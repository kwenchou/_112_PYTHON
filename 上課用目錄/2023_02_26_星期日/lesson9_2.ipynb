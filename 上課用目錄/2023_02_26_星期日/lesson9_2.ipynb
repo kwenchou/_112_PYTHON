{
 "cells": [
  {
   "cell_type": "code",
   "execution_count": 5,
   "metadata": {},
   "outputs": [
    {
     "name": "stdout",
     "output_type": "stream",
     "text": [
      "sandwiches\n",
      "4\n",
      "apple\n",
      "12\n",
      "cups\n",
      "4\n",
      "cookies\n",
      "34\n"
     ]
    }
   ],
   "source": [
    "picnicItems = {'sandwiches': 4,\n",
    "               'apple':12,\n",
    "               'cups':4,\n",
    "               'cookies':34\n",
    "               }\n",
    "\n",
    "for k,v in picnicItems.items():\n",
    "    print(k)\n",
    "    print(v)"
   ]
  },
  {
   "cell_type": "code",
   "execution_count": 6,
   "metadata": {},
   "outputs": [
    {
     "name": "stdout",
     "output_type": "stream",
     "text": [
      "==PICNIT ITEMS==\n",
      "sandwiches..   4\n",
      "apple.......  12\n",
      "cups........   4\n",
      "cookies.....  34\n"
     ]
    }
   ],
   "source": [
    "print('PICNIT ITEMS'.center(16,'='))\n",
    "for k,v in picnicItems.items():\n",
    "    print(k.ljust(12,'.') + str(v).rjust(4))"
   ]
  }
 ],
 "metadata": {
  "kernelspec": {
   "display_name": "Python 3",
   "language": "python",
   "name": "python3"
  },
  "language_info": {
   "codemirror_mode": {
    "name": "ipython",
    "version": 3
   },
   "file_extension": ".py",
   "mimetype": "text/x-python",
   "name": "python",
   "nbconvert_exporter": "python",
   "pygments_lexer": "ipython3",
   "version": "3.10.6"
  },
  "orig_nbformat": 4
 },
 "nbformat": 4,
 "nbformat_minor": 2
}
