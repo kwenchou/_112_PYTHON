{
 "cells": [
  {
   "cell_type": "code",
   "execution_count": 5,
   "metadata": {},
   "outputs": [
    {
     "name": "stdout",
     "output_type": "stream",
     "text": [
      "sandwiches\n",
      "4\n",
      "apple\n",
      "12\n",
      "cups\n",
      "4\n",
      "cookies\n",
      "34\n"
     ]
    }
   ],
   "source": [
    "picnicItems = {'sandwiches': 4,\n",
    "               'apple':12,\n",
    "               'cups':4,\n",
    "               'cookies':34\n",
    "               }\n",
    "\n",
    "for k,v in picnicItems.items():\n",
    "    print(k)\n",
    "    print(v)"
   ]
  },
  {
   "cell_type": "code",
   "execution_count": 6,
   "metadata": {},
   "outputs": [
    {
     "name": "stdout",
     "output_type": "stream",
     "text": [
      "==PICNIT ITEMS==\n",
      "sandwiches..   4\n",
      "apple.......  12\n",
      "cups........   4\n",
      "cookies.....  34\n"
     ]
    }
   ],
   "source": [
    "print('PICNIT ITEMS'.center(16,'='))\n",
    "for k,v in picnicItems.items():\n",
    "    print(k.ljust(12,'.') + str(v).rjust(4))"
   ]
  },
  {
   "cell_type": "code",
   "execution_count": 7,
   "metadata": {},
   "outputs": [],
   "source": [
    "def printPicnic(itemsDict,leftWidth, rightWidth) -> None:\n",
    "    print('PICNIT ITEMS'.center(leftWidth+rightWidth,'='))\n",
    "    for k,v in itemsDict.items():\n",
    "        print(k.ljust(leftWidth,'.') + str(v).rjust(rightWidth))"
   ]
  },
  {
   "cell_type": "code",
   "execution_count": 9,
   "metadata": {},
   "outputs": [
    {
     "name": "stdout",
     "output_type": "stream",
     "text": [
      "====PICNIT ITEMS====\n",
      "sandwiches......   4\n",
      "apple...........  12\n",
      "cups............   4\n",
      "cookies.........  34\n",
      "=======PICNIT ITEMS=======\n",
      "sandwiches..........     4\n",
      "apple...............    12\n",
      "cups................     4\n",
      "cookies.............    34\n"
     ]
    }
   ],
   "source": [
    "picnicItems = {'sandwiches': 4,\n",
    "               'apple':12,\n",
    "               'cups':4,\n",
    "               'cookies':34\n",
    "               }\n",
    "printPicnic(picnicItems,16,4)\n",
    "printPicnic(picnicItems,20,6)"
   ]
  }
 ],
 "metadata": {
  "kernelspec": {
   "display_name": "Python 3",
   "language": "python",
   "name": "python3"
  },
  "language_info": {
   "codemirror_mode": {
    "name": "ipython",
    "version": 3
   },
   "file_extension": ".py",
   "mimetype": "text/x-python",
   "name": "python",
   "nbconvert_exporter": "python",
   "pygments_lexer": "ipython3",
   "version": "3.10.6"
  },
  "orig_nbformat": 4
 },
 "nbformat": 4,
 "nbformat_minor": 2
}
