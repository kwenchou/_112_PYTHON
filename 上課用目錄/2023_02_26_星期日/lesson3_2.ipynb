{
 "cells": [
  {
   "attachments": {},
   "cell_type": "markdown",
   "metadata": {},
   "source": [
    "### Homework(ladder.py):\n",
    "\n",
    "- 讓使用者輸入梯形的上底、下底及高，程式會計算梯形的面積(上底加下底乘以高除以2)\n",
    "  \n",
    "```\n",
    "請輸入梯形的上底(公分):5\n",
    "請輸入梯形的下底(公分):10\n",
    "請輸入梯形的高(公分):2\n",
    "梯形的面積:15平方公分\n",
    "```"
   ]
  },
  {
   "cell_type": "code",
   "execution_count": 1,
   "metadata": {},
   "outputs": [
    {
     "name": "stdout",
     "output_type": "stream",
     "text": [
      "梯形的面積:318.10平方公分\n"
     ]
    }
   ],
   "source": [
    "top = eval(input('請輸入梯形的上底(公分):'))\n",
    "bottom = eval(input('請輸入梯形的下底(公分):'))\n",
    "height = eval(input('請輸入梯形的高(公分):'))\n",
    "\n",
    "area = (top + bottom) * height / 2\n",
    "print(f\"梯形的面積:{area:.2f}平方公分\")"
   ]
  },
  {
   "attachments": {},
   "cell_type": "markdown",
   "metadata": {},
   "source": [
    "### Homework(circle_s.py)\n",
    "\n",
    "- 使用者輸入圓柱體的半徑及高，程式會計算圓柱體的體積\n",
    "- 圓柱體體積的公式為「圓週率乘以半徑平方再乘以高」。\n",
    "\n",
    "```\n",
    "請輸入圓柱體的半徑(公分):10\n",
    "請輸入圓柱體的高(公分):5\n",
    "圓柱體的體積:xxxx立方公分\n",
    "```"
   ]
  },
  {
   "cell_type": "code",
   "execution_count": 3,
   "metadata": {},
   "outputs": [
    {
     "name": "stdout",
     "output_type": "stream",
     "text": [
      "圓柱體的體積: 17497.43立方公分\n"
     ]
    }
   ],
   "source": [
    "PI = 3.1415962\n",
    "r = eval(input(\"圓半徑(公分)\"))\n",
    "h = eval(input(\"圓柱高(公分)\"))\n",
    "area = PI * r ** 2 * h\n",
    "\n",
    "print(f\"圓柱體的體積: {area:.2f}立方公分\")"
   ]
  },
  {
   "cell_type": "code",
   "execution_count": 4,
   "metadata": {},
   "outputs": [
    {
     "name": "stdout",
     "output_type": "stream",
     "text": [
      "5.0\n"
     ]
    }
   ],
   "source": [
    "#國中數學\n",
    "#求斜邊\n",
    "import math\n",
    "\n",
    "a = eval(input(\"請輸入對邊:\"))\n",
    "b = eval(input(\"請輸入鄰邊:\"))\n",
    "\n",
    "c = math.sqrt(a ** 2 + b ** 2)\n",
    "print(c)"
   ]
  }
 ],
 "metadata": {
  "kernelspec": {
   "display_name": "Python 3",
   "language": "python",
   "name": "python3"
  },
  "language_info": {
   "codemirror_mode": {
    "name": "ipython",
    "version": 3
   },
   "file_extension": ".py",
   "mimetype": "text/x-python",
   "name": "python",
   "nbconvert_exporter": "python",
   "pygments_lexer": "ipython3",
   "version": "3.9.6"
  },
  "orig_nbformat": 4
 },
 "nbformat": 4,
 "nbformat_minor": 2
}
