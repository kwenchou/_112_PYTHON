{
 "cells": [
  {
   "cell_type": "code",
   "execution_count": 2,
   "metadata": {},
   "outputs": [
    {
     "name": "stdout",
     "output_type": "stream",
     "text": [
      "恭喜!已經存夠了,存了7月份共存了31969元\n"
     ]
    }
   ],
   "source": [
    "# 小明想要存錢買一輛機車,機車每輛30000元，他將每月存的錢輸入，當存款足夠買機車時，就顯示提示訊息告知。\n",
    "\n",
    "deposit = 0\n",
    "month_count = 0\n",
    "while(deposit < 30000):\n",
    "    month_count += 1\n",
    "    input_value = int(input(f\"請輸入第{month_count}月份的存款:\"))\n",
    "    deposit += input_value\n",
    "\n",
    "print(f\"恭喜!已經存夠了,存了{month_count}月份共存了{deposit}元\")\n"
   ]
  },
  {
   "cell_type": "code",
   "execution_count": 6,
   "metadata": {},
   "outputs": [
    {
     "name": "stdout",
     "output_type": "stream",
     "text": [
      "2\n",
      "3\n",
      "4\n",
      "全班總成績為:300,平均分數為:100.0\n"
     ]
    }
   ],
   "source": [
    "#小美是一位教師，請你以while迴圈方式為小美設計一個輸入成績的程式，如果輸入負數表示成績輸入結束，在輸入成績結束後顯示班上總成績及平均成績。\n",
    "\n",
    "score = int(input(\"請輸入學生的成績:\"))\n",
    "sum = 0\n",
    "score_count = 1\n",
    "while(score > 0):\n",
    "    sum += score\n",
    "    score_count += 1\n",
    "    score = int(input(\"請輸入學生的成績:\"))\n",
    "    print(score_count)\n",
    "\n",
    "\n",
    "print(f\"全班總成績為:{sum},平均分數為:{round(sum/(score_count-1),ndigits=2)}\")"
   ]
  },
  {
   "cell_type": "code",
   "execution_count": 7,
   "metadata": {},
   "outputs": [
    {
     "name": "stdout",
     "output_type": "stream",
     "text": [
      "全班總成績為:300,平均分數為:100.0\n"
     ]
    }
   ],
   "source": [
    "#break跳出迴圈\n",
    "sum = 0\n",
    "score_count = 0\n",
    "while(True):\n",
    "    score = int(input(f\"請輸入{score_count+1}學生的成績:\"))\n",
    "    if score < 0:\n",
    "        break\n",
    "    sum += score\n",
    "    score_count += 1\n",
    "\n",
    "print(f\"全班總成績為:{sum},平均分數為:{round(sum/score_count,ndigits=2)}\")"
   ]
  },
  {
   "cell_type": "code",
   "execution_count": 8,
   "metadata": {},
   "outputs": [
    {
     "name": "stdout",
     "output_type": "stream",
     "text": [
      "1的平方值是1\n",
      "3的平方值是9\n",
      "5的平方值是25\n",
      "程式結束\n"
     ]
    }
   ],
   "source": [
    "#請輸入整數,輸入[q]離開:\n",
    "#奇數輸出平方\n",
    "#偶數不做任何動作\n",
    "\n",
    "while(True):\n",
    "    value = input(\"請輸入整數,輸入[q]離開:\")\n",
    "    if value == 'q':\n",
    "        break\n",
    "    elif int(value) % 2 == 0:\n",
    "        continue\n",
    "    else:\n",
    "        print(f\"{value}的平方值是{int(value) ** 2}\")\n",
    "print(\"程式結束\")"
   ]
  }
 ],
 "metadata": {
  "kernelspec": {
   "display_name": "Python 3",
   "language": "python",
   "name": "python3"
  },
  "language_info": {
   "codemirror_mode": {
    "name": "ipython",
    "version": 3
   },
   "file_extension": ".py",
   "mimetype": "text/x-python",
   "name": "python",
   "nbconvert_exporter": "python",
   "pygments_lexer": "ipython3",
   "version": "3.9.6"
  },
  "orig_nbformat": 4
 },
 "nbformat": 4,
 "nbformat_minor": 2
}
