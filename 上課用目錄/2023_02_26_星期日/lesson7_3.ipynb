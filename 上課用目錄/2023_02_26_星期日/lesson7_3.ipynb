{
 "cells": [
  {
   "cell_type": "code",
   "execution_count": 2,
   "metadata": {},
   "outputs": [],
   "source": [
    "student_3 = [\n",
    "    [67, 92, 57, 93, 74],\n",
    "    [89, 72, 89, 68, 80],\n",
    "    [78, 91, 59, 83, 84],\n",
    "]"
   ]
  },
  {
   "cell_type": "code",
   "execution_count": 3,
   "metadata": {},
   "outputs": [
    {
     "data": {
      "text/plain": [
       "([67, 92, 57, 93, 74], [89, 72, 89, 68, 80], [89, 72, 89, 68, 80])"
      ]
     },
     "execution_count": 3,
     "metadata": {},
     "output_type": "execute_result"
    }
   ],
   "source": [
    "student_3[0] , student_3[1], student_3[1]"
   ]
  },
  {
   "cell_type": "code",
   "execution_count": 13,
   "metadata": {},
   "outputs": [
    {
     "data": {
      "text/plain": [
       "[82, 84, 72, 75, 63]"
      ]
     },
     "execution_count": 13,
     "metadata": {},
     "output_type": "execute_result"
    }
   ],
   "source": [
    "import random\n",
    "\n",
    "def get_random_score() -> list:\n",
    "    return [random.randint(50, 100), random.randint(50, 100), random.randint(50, 100), random.randint(50, 100), random.randint(50, 100)]\n",
    "\n",
    "get_random_score()"
   ]
  },
  {
   "cell_type": "code",
   "execution_count": 14,
   "metadata": {},
   "outputs": [
    {
     "data": {
      "text/plain": [
       "[[68, 77, 96, 56, 84], [56, 100, 87, 99, 59], [76, 86, 70, 62, 55]]"
      ]
     },
     "execution_count": 14,
     "metadata": {},
     "output_type": "execute_result"
    }
   ],
   "source": [
    "student_3 = [\n",
    "    get_random_score(),\n",
    "    get_random_score(),\n",
    "    get_random_score()\n",
    "]\n",
    "\n",
    "student_3"
   ]
  },
  {
   "cell_type": "code",
   "execution_count": 20,
   "metadata": {},
   "outputs": [
    {
     "data": {
      "text/plain": [
       "[[70, 89, 77, 51, 54],\n",
       " [69, 92, 66, 91, 59],\n",
       " [82, 87, 61, 60, 80],\n",
       " [89, 90, 94, 96, 90],\n",
       " [71, 88, 88, 76, 73],\n",
       " [72, 58, 82, 77, 60],\n",
       " [100, 50, 76, 64, 58],\n",
       " [91, 62, 82, 69, 51],\n",
       " [99, 75, 78, 67, 75],\n",
       " [68, 54, 67, 52, 82],\n",
       " [56, 79, 64, 57, 60],\n",
       " [88, 94, 63, 64, 72],\n",
       " [64, 68, 59, 95, 58],\n",
       " [65, 60, 91, 99, 75],\n",
       " [58, 95, 72, 85, 52],\n",
       " [69, 84, 62, 75, 83],\n",
       " [62, 70, 58, 71, 97],\n",
       " [91, 70, 87, 80, 88],\n",
       " [84, 68, 70, 84, 72],\n",
       " [95, 62, 97, 99, 50],\n",
       " [73, 98, 73, 54, 100],\n",
       " [89, 74, 51, 80, 89],\n",
       " [70, 51, 79, 71, 95],\n",
       " [58, 60, 98, 76, 91],\n",
       " [66, 75, 100, 92, 100],\n",
       " [63, 69, 100, 80, 87],\n",
       " [58, 100, 58, 68, 93],\n",
       " [80, 58, 99, 81, 86],\n",
       " [54, 66, 83, 80, 57],\n",
       " [89, 72, 88, 95, 90],\n",
       " [70, 56, 98, 84, 92],\n",
       " [97, 97, 98, 61, 60],\n",
       " [82, 58, 70, 88, 80],\n",
       " [98, 97, 96, 86, 92],\n",
       " [84, 54, 76, 74, 89],\n",
       " [95, 59, 86, 67, 78],\n",
       " [86, 76, 51, 90, 58],\n",
       " [56, 70, 68, 55, 69],\n",
       " [50, 62, 96, 75, 99],\n",
       " [97, 62, 79, 98, 55],\n",
       " [74, 64, 50, 93, 72],\n",
       " [70, 97, 90, 80, 55],\n",
       " [99, 91, 64, 85, 50],\n",
       " [55, 83, 92, 67, 89],\n",
       " [91, 86, 94, 82, 90],\n",
       " [60, 85, 93, 83, 55],\n",
       " [68, 76, 50, 53, 52],\n",
       " [57, 66, 92, 100, 73],\n",
       " [88, 92, 76, 95, 61],\n",
       " [65, 92, 72, 74, 66]]"
      ]
     },
     "execution_count": 20,
     "metadata": {},
     "output_type": "execute_result"
    }
   ],
   "source": [
    "#使用list實體的append(x)的方法(method)\n",
    "import random\n",
    "\n",
    "def get_random_score() -> list:\n",
    "    return [random.randint(50, 100), random.randint(50, 100), random.randint(50, 100), random.randint(50, 100), random.randint(50, 100)]\n",
    "\n",
    "student_50 = []\n",
    "for _ in range(1,51):\n",
    "    student_50.append(get_random_score())\n",
    "student_50"
   ]
  },
  {
   "cell_type": "code",
   "execution_count": 21,
   "metadata": {},
   "outputs": [
    {
     "data": {
      "text/plain": [
       "[[70, 89, 77, 51, 54],\n",
       " [69, 92, 66, 91, 59],\n",
       " [82, 87, 61, 60, 80],\n",
       " [89, 90, 94, 96, 90],\n",
       " [71, 88, 88, 76, 73]]"
      ]
     },
     "execution_count": 21,
     "metadata": {},
     "output_type": "execute_result"
    }
   ],
   "source": [
    "student_50[:5]"
   ]
  },
  {
   "cell_type": "code",
   "execution_count": 22,
   "metadata": {},
   "outputs": [
    {
     "data": {
      "text/plain": [
       "[[60, 85, 93, 83, 55],\n",
       " [68, 76, 50, 53, 52],\n",
       " [57, 66, 92, 100, 73],\n",
       " [88, 92, 76, 95, 61],\n",
       " [65, 92, 72, 74, 66]]"
      ]
     },
     "execution_count": 22,
     "metadata": {},
     "output_type": "execute_result"
    }
   ],
   "source": [
    "student_50[-5:]"
   ]
  }
 ],
 "metadata": {
  "kernelspec": {
   "display_name": "Python 3",
   "language": "python",
   "name": "python3"
  },
  "language_info": {
   "codemirror_mode": {
    "name": "ipython",
    "version": 3
   },
   "file_extension": ".py",
   "mimetype": "text/x-python",
   "name": "python",
   "nbconvert_exporter": "python",
   "pygments_lexer": "ipython3",
   "version": "3.9.6"
  },
  "orig_nbformat": 4
 },
 "nbformat": 4,
 "nbformat_minor": 2
}
