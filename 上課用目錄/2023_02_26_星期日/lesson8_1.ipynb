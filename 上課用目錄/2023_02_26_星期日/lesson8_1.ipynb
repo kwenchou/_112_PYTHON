{
 "cells": [
  {
   "cell_type": "code",
   "execution_count": 2,
   "metadata": {},
   "outputs": [
    {
     "data": {
      "text/plain": [
       "set"
      ]
     },
     "execution_count": 2,
     "metadata": {},
     "output_type": "execute_result"
    }
   ],
   "source": [
    "empty_set = set()\n",
    "type(empty_set)"
   ]
  },
  {
   "cell_type": "code",
   "execution_count": 3,
   "metadata": {},
   "outputs": [
    {
     "data": {
      "text/plain": [
       "{2, 4, 6, 8, 10}"
      ]
     },
     "execution_count": 3,
     "metadata": {},
     "output_type": "execute_result"
    }
   ],
   "source": [
    "even_numbers = {2, 4, 6, 8, 10, 2, 4, 6, 8, 10}\n",
    "even_numbers"
   ]
  },
  {
   "cell_type": "code",
   "execution_count": 4,
   "metadata": {},
   "outputs": [
    {
     "data": {
      "text/plain": [
       "{'e', 'l', 'r', 's', 't'}"
      ]
     },
     "execution_count": 4,
     "metadata": {},
     "output_type": "execute_result"
    }
   ],
   "source": [
    "set('letters')"
   ]
  },
  {
   "cell_type": "code",
   "execution_count": 5,
   "metadata": {},
   "outputs": [
    {
     "data": {
      "text/plain": [
       "({'a', 'b', 'c', 'd', 'r'}, {'a', 'c', 'l', 'm', 'z'})"
      ]
     },
     "execution_count": 5,
     "metadata": {},
     "output_type": "execute_result"
    }
   ],
   "source": [
    "set_a = set('abracadabra')\n",
    "set_b = set('alacazam')\n",
    "\n",
    "set_a, set_b"
   ]
  },
  {
   "cell_type": "code",
   "execution_count": 6,
   "metadata": {},
   "outputs": [
    {
     "data": {
      "text/plain": [
       "{'b', 'd', 'r'}"
      ]
     },
     "execution_count": 6,
     "metadata": {},
     "output_type": "execute_result"
    }
   ],
   "source": [
    "#差集\n",
    "set_a - set_b"
   ]
  },
  {
   "cell_type": "code",
   "execution_count": 8,
   "metadata": {},
   "outputs": [
    {
     "data": {
      "text/plain": [
       "{'a', 'b', 'c', 'd', 'l', 'm', 'r', 'z'}"
      ]
     },
     "execution_count": 8,
     "metadata": {},
     "output_type": "execute_result"
    }
   ],
   "source": [
    "#聯集\n",
    "set_a | set_b"
   ]
  },
  {
   "cell_type": "code",
   "execution_count": 9,
   "metadata": {},
   "outputs": [
    {
     "data": {
      "text/plain": [
       "{'a', 'c'}"
      ]
     },
     "execution_count": 9,
     "metadata": {},
     "output_type": "execute_result"
    }
   ],
   "source": [
    "#交集\n",
    "set_a & set_b"
   ]
  },
  {
   "cell_type": "code",
   "execution_count": 29,
   "metadata": {},
   "outputs": [
    {
     "name": "stdout",
     "output_type": "stream",
     "text": [
      "本組號碼:[7, 9, 16, 33, 35, 38] 特別號:28\n"
     ]
    }
   ],
   "source": [
    "#撰寫一個大樂透電腦自動選號程式，程式執行會以亂數的方式顯示1-49之間七個不重複的大樂透號碼。\n",
    "\n",
    "import random\n",
    "\n",
    "biglottery = set()\n",
    "while(len(biglottery) < 7):\n",
    "    biglottery.add(random.randint(1,49))\n",
    "\n",
    "lottery_list = list(biglottery)\n",
    "print(\"本組號碼:\",end='')\n",
    "print(sorted(lottery_list[:6]),end=' ')\n",
    "print(\"特別號:\",end='')\n",
    "print(lottery_list[-1])"
   ]
  },
  {
   "cell_type": "code",
   "execution_count": 30,
   "metadata": {},
   "outputs": [
    {
     "data": {
      "text/plain": [
       "138"
      ]
     },
     "execution_count": 30,
     "metadata": {},
     "output_type": "execute_result"
    }
   ],
   "source": [
    "sum(lottery_list[:6])"
   ]
  },
  {
   "cell_type": "code",
   "execution_count": 32,
   "metadata": {},
   "outputs": [
    {
     "name": "stdout",
     "output_type": "stream",
     "text": [
      "第1組\n",
      "本組號碼:[13, 20, 23, 40, 41, 49] 特別號:31\n",
      "第2組\n",
      "本組號碼:[5, 20, 21, 32, 37, 47] 特別號:29\n",
      "第3組\n",
      "本組號碼:[3, 15, 17, 19, 20, 44] 特別號:21\n",
      "第4組\n",
      "本組號碼:[1, 7, 11, 13, 42, 48] 特別號:16\n",
      "第5組\n",
      "本組號碼:[8, 9, 38, 44, 48, 49] 特別號:20\n"
     ]
    }
   ],
   "source": [
    "import random\n",
    "\n",
    "def generate_lottery():\n",
    "    biglottery = set()\n",
    "    while(len(biglottery) < 7):\n",
    "        biglottery.add(random.randint(1,49))\n",
    "\n",
    "    lottery_list = list(biglottery)\n",
    "    print(\"本組號碼:\",end='')\n",
    "    print(sorted(lottery_list[:6]),end=' ')\n",
    "    print(\"特別號:\",end='')\n",
    "    print(lottery_list[-1])\n",
    "\n",
    "\n",
    "nums = int(input(\"請輸入大樂透電腦選號的組數:\"))\n",
    "\n",
    "for i in range(nums):\n",
    "    print(f\"第{i+1}組\")\n",
    "    generate_lottery()"
   ]
  }
 ],
 "metadata": {
  "kernelspec": {
   "display_name": "Python 3",
   "language": "python",
   "name": "python3"
  },
  "language_info": {
   "codemirror_mode": {
    "name": "ipython",
    "version": 3
   },
   "file_extension": ".py",
   "mimetype": "text/x-python",
   "name": "python",
   "nbconvert_exporter": "python",
   "pygments_lexer": "ipython3",
   "version": "3.9.6"
  },
  "orig_nbformat": 4
 },
 "nbformat": 4,
 "nbformat_minor": 2
}
