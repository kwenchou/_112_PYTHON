{
 "cells": [
  {
   "cell_type": "code",
   "execution_count": 3,
   "metadata": {},
   "outputs": [
    {
     "name": "stdout",
     "output_type": "stream",
     "text": [
      "不及格\n"
     ]
    }
   ],
   "source": [
    "chinese = int(input(\"請輸入學生國文分數:\"))\n",
    "\n",
    "if chinese >= 80:\n",
    "    print(\"優等\")\n",
    "else:\n",
    "    if chinese >= 60:\n",
    "        print(\"一般\")\n",
    "    else:\n",
    "        print(\"不及格\")"
   ]
  },
  {
   "cell_type": "code",
   "execution_count": 6,
   "metadata": {},
   "outputs": [
    {
     "name": "stdout",
     "output_type": "stream",
     "text": [
      "不及格\n"
     ]
    }
   ],
   "source": [
    "#多項選擇\n",
    "chinese = int(input(\"請輸入學生國文分數:\"))\n",
    "\n",
    "if chinese >= 80:\n",
    "    print(\"優等\")\n",
    "elif chinese >= 60:\n",
    "    print(\"一般\")\n",
    "else:\n",
    "    print(\"不及格\")"
   ]
  },
  {
   "attachments": {},
   "cell_type": "markdown",
   "metadata": {},
   "source": [
    "### 下列為換算成績等級的程式碼，換算的規則如下：\n",
    "- 90(含)~100分為「優」\n",
    "- 80(含)~89分為「甲」\n",
    "- 70(含)~79分為「乙」\n",
    "- 60(含)~69分為「丙」\n",
    "- 0(含)~59分為「丁」"
   ]
  },
  {
   "cell_type": "code",
   "execution_count": 11,
   "metadata": {},
   "outputs": [
    {
     "name": "stdout",
     "output_type": "stream",
     "text": [
      "丁\n"
     ]
    }
   ],
   "source": [
    "#多項選擇\n",
    "\n",
    "chinese = int(input(\"請輸入學生國文分數:\"))\n",
    "if chinese >= 90:\n",
    "    print(\"優\")\n",
    "elif chinese >= 80:\n",
    "    print(\"甲\")\n",
    "elif chinese >= 70:\n",
    "    print(\"乙\")\n",
    "elif chinese >= 60:\n",
    "    print(\"丙\")\n",
    "else:\n",
    "    print(\"丁\")\n",
    "\n"
   ]
  },
  {
   "attachments": {},
   "cell_type": "markdown",
   "metadata": {},
   "source": [
    "### 輸入顧客購買金額，若金額在\n",
    "- 100000元打8折. \n",
    "- 50000打85折. \n",
    "- 30000打9折. \n",
    "- 10000打95折. \n",
    "\n",
    "> 請輸入購買金額:130000\n",
    "> \n",
    "> 實付金額是: 104000.0 元"
   ]
  },
  {
   "cell_type": "code",
   "execution_count": 12,
   "metadata": {},
   "outputs": [
    {
     "name": "stdout",
     "output_type": "stream",
     "text": [
      "實付金額是:112000\n"
     ]
    }
   ],
   "source": [
    "money = int(input(\"請輸入顧客購買金額:\"))\n",
    "\n",
    "if money < 10000:\n",
    "    payMoney = money\n",
    "elif money < 30000:\n",
    "    payMoney = money * 0.95\n",
    "elif money < 50000:\n",
    "    payMoney = money * 0.9\n",
    "elif money < 100000:\n",
    "    payMoney = money * 0.85\n",
    "else:\n",
    "    payMoney = money * 0.8\n",
    "\n",
    "print(f\"實付金額是:{round(payMoney)}\")"
   ]
  },
  {
   "cell_type": "code",
   "execution_count": 17,
   "metadata": {},
   "outputs": [
    {
     "name": "stdout",
     "output_type": "stream",
     "text": [
      "獎金為:0\n"
     ]
    }
   ],
   "source": [
    "#巢狀判斷\n",
    "\n",
    "chinese = int(input(\"請輸入國文分數\"))\n",
    "math = int(input(\"請輸入數學分數\"))\n",
    "\n",
    "if chinese == 100:\n",
    "    if math == 100:\n",
    "        bonus = 1000\n",
    "    else:\n",
    "        bonus = 500\n",
    "else:\n",
    "    if math == 100:\n",
    "        bonus = 500\n",
    "    else:\n",
    "        bonus = 0\n",
    "    \n",
    "print(f\"獎金為:{bonus}\")"
   ]
  },
  {
   "cell_type": "code",
   "execution_count": 20,
   "metadata": {},
   "outputs": [
    {
     "name": "stdout",
     "output_type": "stream",
     "text": [
      "獎金為:0\n"
     ]
    }
   ],
   "source": [
    "#使用邏輯運算子\n",
    "#多項選擇\n",
    "\n",
    "chinese = int(input(\"請輸入國文分數\"))\n",
    "math = int(input(\"請輸入數學分數\"))\n",
    "\n",
    "if chinese == 100 and math == 100:\n",
    "    bonus = 1000\n",
    "elif chinese == 100 or math == 100:\n",
    "    bonus = 500\n",
    "else:\n",
    "    bonus = 0\n",
    "    \n",
    "print(f\"獎金為:{bonus}\")"
   ]
  }
 ],
 "metadata": {
  "kernelspec": {
   "display_name": "Python 3",
   "language": "python",
   "name": "python3"
  },
  "language_info": {
   "codemirror_mode": {
    "name": "ipython",
    "version": 3
   },
   "file_extension": ".py",
   "mimetype": "text/x-python",
   "name": "python",
   "nbconvert_exporter": "python",
   "pygments_lexer": "ipython3",
   "version": "3.9.6"
  },
  "orig_nbformat": 4
 },
 "nbformat": 4,
 "nbformat_minor": 2
}
